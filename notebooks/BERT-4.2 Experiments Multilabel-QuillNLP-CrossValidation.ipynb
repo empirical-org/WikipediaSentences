{
 "cells": [
  {
   "cell_type": "markdown",
   "metadata": {},
   "source": [
    "# Multilabel BERT Experiments\n",
    "\n",
    "In this notebook we do some first experiments with BERT: we finetune a BERT model+classifier on each of our datasets separately and compute the accuracy of the resulting classifier on the test data."
   ]
  },
  {
   "cell_type": "markdown",
   "metadata": {},
   "source": [
    "For these experiments we use the `pytorch_transformers` package. It contains a variety of neural network architectures for transfer learning and pretrained models, including BERT and XLNET.\n",
    "\n",
    "Two different BERT models are relevant for our experiments: \n",
    "\n",
    "- BERT-base-uncased: a relatively small BERT model that should already give reasonable results,\n",
    "- BERT-large-uncased: a larger model for real state-of-the-art results."
   ]
  },
  {
   "cell_type": "code",
   "execution_count": 1,
   "metadata": {},
   "outputs": [],
   "source": [
    "PREFIX = \"voting_so_automl\"\n",
    "BERT_MODEL = 'bert-large-uncased'\n",
    "BATCH_SIZE = 16 if \"base\" in BERT_MODEL else 2\n",
    "GRADIENT_ACCUMULATION_STEPS = 1 if \"base\" in BERT_MODEL else 8\n",
    "MAX_SEQ_LENGTH = 100"
   ]
  },
  {
   "cell_type": "markdown",
   "metadata": {},
   "source": [
    "## Data\n",
    "\n",
    "We use the same data as for all our previous experiments. Here we load the training, development and test data for a particular prompt."
   ]
  },
  {
   "cell_type": "code",
   "execution_count": 2,
   "metadata": {},
   "outputs": [
    {
     "name": "stderr",
     "output_type": "stream",
     "text": [
      "/opt/anaconda3/lib/python3.7/site-packages/tensorflow/python/framework/dtypes.py:516: FutureWarning: Passing (type, 1) or '1type' as a synonym of type is deprecated; in a future version of numpy, it will be understood as (type, (1,)) / '(1,)type'.\n",
      "  _np_qint8 = np.dtype([(\"qint8\", np.int8, 1)])\n",
      "/opt/anaconda3/lib/python3.7/site-packages/tensorflow/python/framework/dtypes.py:517: FutureWarning: Passing (type, 1) or '1type' as a synonym of type is deprecated; in a future version of numpy, it will be understood as (type, (1,)) / '(1,)type'.\n",
      "  _np_quint8 = np.dtype([(\"quint8\", np.uint8, 1)])\n",
      "/opt/anaconda3/lib/python3.7/site-packages/tensorflow/python/framework/dtypes.py:518: FutureWarning: Passing (type, 1) or '1type' as a synonym of type is deprecated; in a future version of numpy, it will be understood as (type, (1,)) / '(1,)type'.\n",
      "  _np_qint16 = np.dtype([(\"qint16\", np.int16, 1)])\n",
      "/opt/anaconda3/lib/python3.7/site-packages/tensorflow/python/framework/dtypes.py:519: FutureWarning: Passing (type, 1) or '1type' as a synonym of type is deprecated; in a future version of numpy, it will be understood as (type, (1,)) / '(1,)type'.\n",
      "  _np_quint16 = np.dtype([(\"quint16\", np.uint16, 1)])\n",
      "/opt/anaconda3/lib/python3.7/site-packages/tensorflow/python/framework/dtypes.py:520: FutureWarning: Passing (type, 1) or '1type' as a synonym of type is deprecated; in a future version of numpy, it will be understood as (type, (1,)) / '(1,)type'.\n",
      "  _np_qint32 = np.dtype([(\"qint32\", np.int32, 1)])\n",
      "/opt/anaconda3/lib/python3.7/site-packages/tensorflow/python/framework/dtypes.py:525: FutureWarning: Passing (type, 1) or '1type' as a synonym of type is deprecated; in a future version of numpy, it will be understood as (type, (1,)) / '(1,)type'.\n",
      "  np_resource = np.dtype([(\"resource\", np.ubyte, 1)])\n",
      "/opt/anaconda3/lib/python3.7/site-packages/tensorboard/compat/tensorflow_stub/dtypes.py:541: FutureWarning: Passing (type, 1) or '1type' as a synonym of type is deprecated; in a future version of numpy, it will be understood as (type, (1,)) / '(1,)type'.\n",
      "  _np_qint8 = np.dtype([(\"qint8\", np.int8, 1)])\n",
      "/opt/anaconda3/lib/python3.7/site-packages/tensorboard/compat/tensorflow_stub/dtypes.py:542: FutureWarning: Passing (type, 1) or '1type' as a synonym of type is deprecated; in a future version of numpy, it will be understood as (type, (1,)) / '(1,)type'.\n",
      "  _np_quint8 = np.dtype([(\"quint8\", np.uint8, 1)])\n",
      "/opt/anaconda3/lib/python3.7/site-packages/tensorboard/compat/tensorflow_stub/dtypes.py:543: FutureWarning: Passing (type, 1) or '1type' as a synonym of type is deprecated; in a future version of numpy, it will be understood as (type, (1,)) / '(1,)type'.\n",
      "  _np_qint16 = np.dtype([(\"qint16\", np.int16, 1)])\n",
      "/opt/anaconda3/lib/python3.7/site-packages/tensorboard/compat/tensorflow_stub/dtypes.py:544: FutureWarning: Passing (type, 1) or '1type' as a synonym of type is deprecated; in a future version of numpy, it will be understood as (type, (1,)) / '(1,)type'.\n",
      "  _np_quint16 = np.dtype([(\"quint16\", np.uint16, 1)])\n",
      "/opt/anaconda3/lib/python3.7/site-packages/tensorboard/compat/tensorflow_stub/dtypes.py:545: FutureWarning: Passing (type, 1) or '1type' as a synonym of type is deprecated; in a future version of numpy, it will be understood as (type, (1,)) / '(1,)type'.\n",
      "  _np_qint32 = np.dtype([(\"qint32\", np.int32, 1)])\n",
      "/opt/anaconda3/lib/python3.7/site-packages/tensorboard/compat/tensorflow_stub/dtypes.py:550: FutureWarning: Passing (type, 1) or '1type' as a synonym of type is deprecated; in a future version of numpy, it will be understood as (type, (1,)) / '(1,)type'.\n",
      "  np_resource = np.dtype([(\"resource\", np.ubyte, 1)])\n",
      "I1108 11:34:56.630376 139696871913280 file_utils.py:39] PyTorch version 1.1.0 available.\n",
      "I1108 11:34:56.745269 139696871913280 modeling_xlnet.py:194] Better speed can be achieved with apex installed from https://www.github.com/nvidia/apex .\n",
      "I1108 11:34:57.277662 139696871913280 tokenization_utils.py:374] loading file https://s3.amazonaws.com/models.huggingface.co/bert/bert-large-uncased-vocab.txt from cache at /home/yves/.cache/torch/transformers/9b3c03a36e83b13d5ba95ac965c9f9074a99e14340c523ab405703179e79fc46.542ce4285a40d23a559526243235df47c5f75c197f04f37d1a0c124c32c9a084\n"
     ]
    },
    {
     "name": "stdout",
     "output_type": "stream",
     "text": [
      "Counter({'More Representative': 371, 'Miscellaneous': 223, 'Increased Voting': 218, 'Leaders': 109, 'Civic Duty': 25, 'Apathy': 10, 'Feels Represented': 10})\n"
     ]
    }
   ],
   "source": [
    "import sys\n",
    "sys.path.append('../')\n",
    "\n",
    "import ndjson\n",
    "import glob\n",
    "import numpy as np\n",
    "from collections import Counter\n",
    "\n",
    "from quillnlp.models.bert.preprocessing import preprocess, create_label_vocabulary\n",
    "\n",
    "data_file = f\"../data/interim/{PREFIX}_withprompt.ndjson\"\n",
    "\n",
    "with open(data_file) as i:\n",
    "    data = ndjson.load(i)\n",
    "    \n",
    "label2idx = create_label_vocabulary(data)\n",
    "idx2label = {v:k for k,v in label2idx.items()}\n",
    "target_names = [idx2label[s] for s in range(len(idx2label))]\n",
    "\n",
    "data_items = preprocess(data, BERT_MODEL, label2idx, MAX_SEQ_LENGTH)\n",
    "data_items = np.array(data_items)\n",
    "    \n",
    "labels = Counter()\n",
    "for item in data:\n",
    "    labels.update(item[\"label\"])\n",
    "print(labels)"
   ]
  },
  {
   "cell_type": "markdown",
   "metadata": {},
   "source": [
    "Read synthetic data, when available."
   ]
  },
  {
   "cell_type": "code",
   "execution_count": 3,
   "metadata": {},
   "outputs": [
    {
     "name": "stderr",
     "output_type": "stream",
     "text": [
      "I1108 11:34:58.040598 139696871913280 tokenization_utils.py:374] loading file https://s3.amazonaws.com/models.huggingface.co/bert/bert-large-uncased-vocab.txt from cache at /home/yves/.cache/torch/transformers/9b3c03a36e83b13d5ba95ac965c9f9074a99e14340c523ab405703179e79fc46.542ce4285a40d23a559526243235df47c5f75c197f04f37d1a0c124c32c9a084\n"
     ]
    }
   ],
   "source": [
    "from collections import defaultdict\n",
    "\n",
    "synth_files = glob.glob(f\"../data/interim/{PREFIX}_withprompt_*.ndjson\")\n",
    "\n",
    "synth_data = []\n",
    "for synth_file in synth_files:\n",
    "    with open(synth_file) as i:\n",
    "        synth_data.extend(ndjson.load(i))\n",
    "\n",
    "preprocessed_synth_data = preprocess(synth_data, BERT_MODEL, label2idx, MAX_SEQ_LENGTH)\n",
    "        \n",
    "synth_map = defaultdict(list)\n",
    "for item, preprocessed_item in zip(synth_data, preprocessed_synth_data):\n",
    "    synth_map[item[\"source_text\"]].append(preprocessed_item)"
   ]
  },
  {
   "cell_type": "markdown",
   "metadata": {},
   "source": [
    "## Model\n",
    "\n",
    "We load the pretrained model and put it on a GPU if one is available. We also put the model in \"training\" mode, so that we can correctly update its internal parameters on the basis of our data sets."
   ]
  },
  {
   "cell_type": "code",
   "execution_count": 4,
   "metadata": {},
   "outputs": [
    {
     "name": "stdout",
     "output_type": "stream",
     "text": [
      "Train size: 531\n",
      "Final train dataloader length: 2458\n"
     ]
    },
    {
     "name": "stderr",
     "output_type": "stream",
     "text": [
      "I1108 11:35:00.358827 139696871913280 configuration_utils.py:151] loading configuration file https://s3.amazonaws.com/models.huggingface.co/bert/bert-large-uncased-config.json from cache at /home/yves/.cache/torch/transformers/6dfaed860471b03ab5b9acb6153bea82b6632fb9bbe514d3fff050fe1319ee6d.4c88e2dec8f8b017f319f6db2b157fee632c0860d9422e4851bd0d6999f9ce38\n",
      "I1108 11:35:00.361253 139696871913280 configuration_utils.py:168] Model config {\n",
      "  \"attention_probs_dropout_prob\": 0.1,\n",
      "  \"finetuning_task\": null,\n",
      "  \"hidden_act\": \"gelu\",\n",
      "  \"hidden_dropout_prob\": 0.1,\n",
      "  \"hidden_size\": 1024,\n",
      "  \"initializer_range\": 0.02,\n",
      "  \"intermediate_size\": 4096,\n",
      "  \"layer_norm_eps\": 1e-12,\n",
      "  \"max_position_embeddings\": 512,\n",
      "  \"num_attention_heads\": 16,\n",
      "  \"num_hidden_layers\": 24,\n",
      "  \"num_labels\": 7,\n",
      "  \"output_attentions\": false,\n",
      "  \"output_hidden_states\": false,\n",
      "  \"output_past\": true,\n",
      "  \"pruned_heads\": {},\n",
      "  \"torchscript\": false,\n",
      "  \"type_vocab_size\": 2,\n",
      "  \"use_bfloat16\": false,\n",
      "  \"vocab_size\": 30522\n",
      "}\n",
      "\n",
      "I1108 11:35:00.887531 139696871913280 modeling_utils.py:337] loading weights file https://s3.amazonaws.com/models.huggingface.co/bert/bert-large-uncased-pytorch_model.bin from cache at /home/yves/.cache/torch/transformers/54da47087cc86ce75324e4dc9bbb5f66c6e83a7c6bd23baea8b489acc8d09aa4.4d5343a4b979c4beeaadef17a0453d1bb183dd9b084f58b84c7cc781df343ae6\n",
      "I1108 11:35:07.720059 139696871913280 modeling_utils.py:405] Weights of BertForMultiLabelSequenceClassification not initialized from pretrained model: ['classifier.weight', 'classifier.bias']\n",
      "I1108 11:35:07.720688 139696871913280 modeling_utils.py:408] Weights from pretrained model not used in BertForMultiLabelSequenceClassification: ['cls.predictions.bias', 'cls.predictions.transform.dense.weight', 'cls.predictions.transform.dense.bias', 'cls.predictions.decoder.weight', 'cls.seq_relationship.weight', 'cls.seq_relationship.bias', 'cls.predictions.transform.LayerNorm.weight', 'cls.predictions.transform.LayerNorm.bias']\n",
      "Epoch:   0%|          | 0/20 [00:00<?, ?it/s]"
     ]
    },
    {
     "data": {
      "application/vnd.jupyter.widget-view+json": {
       "model_id": "b1c7b131f7604572a479a421b21ce6f3",
       "version_major": 2,
       "version_minor": 0
      },
      "text/plain": [
       "HBox(children=(IntProgress(value=0, description='Training iteration', max=2458, style=ProgressStyle(descriptio…"
      ]
     },
     "metadata": {},
     "output_type": "display_data"
    },
    {
     "name": "stdout",
     "output_type": "stream",
     "text": [
      "\n"
     ]
    },
    {
     "data": {
      "application/vnd.jupyter.widget-view+json": {
       "model_id": "ff7f4ff1ff1e49338c6bc666d0c20781",
       "version_major": 2,
       "version_minor": 0
      },
      "text/plain": [
       "HBox(children=(IntProgress(value=0, description='Evaluation iteration', max=54, style=ProgressStyle(descriptio…"
      ]
     },
     "metadata": {},
     "output_type": "display_data"
    },
    {
     "name": "stdout",
     "output_type": "stream",
     "text": [
      "\n",
      "Loss history: []\n",
      "Dev loss: 0.19100835401978758\n"
     ]
    },
    {
     "name": "stderr",
     "output_type": "stream",
     "text": [
      "\r",
      "Epoch:   5%|▌         | 1/20 [04:37<1:27:52, 277.51s/it]"
     ]
    },
    {
     "data": {
      "application/vnd.jupyter.widget-view+json": {
       "model_id": "5592fc8e73ed489e840780fe44320c69",
       "version_major": 2,
       "version_minor": 0
      },
      "text/plain": [
       "HBox(children=(IntProgress(value=0, description='Training iteration', max=2458, style=ProgressStyle(descriptio…"
      ]
     },
     "metadata": {},
     "output_type": "display_data"
    },
    {
     "name": "stdout",
     "output_type": "stream",
     "text": [
      "\n"
     ]
    },
    {
     "data": {
      "application/vnd.jupyter.widget-view+json": {
       "model_id": "eb033133620349c089bd623a9c05cda2",
       "version_major": 2,
       "version_minor": 0
      },
      "text/plain": [
       "HBox(children=(IntProgress(value=0, description='Evaluation iteration', max=54, style=ProgressStyle(descriptio…"
      ]
     },
     "metadata": {},
     "output_type": "display_data"
    },
    {
     "name": "stdout",
     "output_type": "stream",
     "text": [
      "\n",
      "Loss history: [0.19100835401978758]\n",
      "Dev loss: 0.19037974313660352\n"
     ]
    },
    {
     "name": "stderr",
     "output_type": "stream",
     "text": [
      "\r",
      "Epoch:  10%|█         | 2/20 [09:15<1:23:19, 277.75s/it]"
     ]
    },
    {
     "data": {
      "application/vnd.jupyter.widget-view+json": {
       "model_id": "5fa4831e4df74290b72225016a4af543",
       "version_major": 2,
       "version_minor": 0
      },
      "text/plain": [
       "HBox(children=(IntProgress(value=0, description='Training iteration', max=2458, style=ProgressStyle(descriptio…"
      ]
     },
     "metadata": {},
     "output_type": "display_data"
    },
    {
     "name": "stdout",
     "output_type": "stream",
     "text": [
      "\n"
     ]
    },
    {
     "data": {
      "application/vnd.jupyter.widget-view+json": {
       "model_id": "d0d366a3caf447a399b153b368c86122",
       "version_major": 2,
       "version_minor": 0
      },
      "text/plain": [
       "HBox(children=(IntProgress(value=0, description='Evaluation iteration', max=54, style=ProgressStyle(descriptio…"
      ]
     },
     "metadata": {},
     "output_type": "display_data"
    },
    {
     "name": "stderr",
     "output_type": "stream",
     "text": [
      "\r",
      "Epoch:  15%|█▌        | 3/20 [13:52<1:18:37, 277.52s/it]"
     ]
    },
    {
     "name": "stdout",
     "output_type": "stream",
     "text": [
      "\n",
      "Loss history: [0.19100835401978758, 0.19037974313660352]\n",
      "Dev loss: 0.22807689814793844\n"
     ]
    },
    {
     "data": {
      "application/vnd.jupyter.widget-view+json": {
       "model_id": "f4f2443741c34f7e8ef75ce97ef03d20",
       "version_major": 2,
       "version_minor": 0
      },
      "text/plain": [
       "HBox(children=(IntProgress(value=0, description='Training iteration', max=2458, style=ProgressStyle(descriptio…"
      ]
     },
     "metadata": {},
     "output_type": "display_data"
    },
    {
     "name": "stdout",
     "output_type": "stream",
     "text": [
      "\n"
     ]
    },
    {
     "data": {
      "application/vnd.jupyter.widget-view+json": {
       "model_id": "85025e8fed6447b4991483c696c1dc82",
       "version_major": 2,
       "version_minor": 0
      },
      "text/plain": [
       "HBox(children=(IntProgress(value=0, description='Evaluation iteration', max=54, style=ProgressStyle(descriptio…"
      ]
     },
     "metadata": {},
     "output_type": "display_data"
    },
    {
     "name": "stderr",
     "output_type": "stream",
     "text": [
      "\r",
      "Epoch:  20%|██        | 4/20 [18:29<1:13:57, 277.34s/it]"
     ]
    },
    {
     "name": "stdout",
     "output_type": "stream",
     "text": [
      "\n",
      "Loss history: [0.19100835401978758, 0.19037974313660352, 0.22807689814793844]\n",
      "Dev loss: 0.23049031802522088\n"
     ]
    },
    {
     "data": {
      "application/vnd.jupyter.widget-view+json": {
       "model_id": "e33e8c9a2ee64bcc9e0674a11d2463af",
       "version_major": 2,
       "version_minor": 0
      },
      "text/plain": [
       "HBox(children=(IntProgress(value=0, description='Training iteration', max=2458, style=ProgressStyle(descriptio…"
      ]
     },
     "metadata": {},
     "output_type": "display_data"
    },
    {
     "name": "stdout",
     "output_type": "stream",
     "text": [
      "\n"
     ]
    },
    {
     "data": {
      "application/vnd.jupyter.widget-view+json": {
       "model_id": "9159957ec56e4cc98b268b9e5f845a82",
       "version_major": 2,
       "version_minor": 0
      },
      "text/plain": [
       "HBox(children=(IntProgress(value=0, description='Evaluation iteration', max=54, style=ProgressStyle(descriptio…"
      ]
     },
     "metadata": {},
     "output_type": "display_data"
    },
    {
     "name": "stderr",
     "output_type": "stream",
     "text": [
      "\r",
      "Epoch:  25%|██▌       | 5/20 [23:06<1:09:18, 277.26s/it]"
     ]
    },
    {
     "name": "stdout",
     "output_type": "stream",
     "text": [
      "\n",
      "Loss history: [0.19100835401978758, 0.19037974313660352, 0.22807689814793844, 0.23049031802522088]\n",
      "Dev loss: 0.25434399236648997\n"
     ]
    },
    {
     "data": {
      "application/vnd.jupyter.widget-view+json": {
       "model_id": "b3fd52a0017046908fdfd662b2c370bd",
       "version_major": 2,
       "version_minor": 0
      },
      "text/plain": [
       "HBox(children=(IntProgress(value=0, description='Training iteration', max=2458, style=ProgressStyle(descriptio…"
      ]
     },
     "metadata": {},
     "output_type": "display_data"
    },
    {
     "name": "stdout",
     "output_type": "stream",
     "text": [
      "\n"
     ]
    },
    {
     "data": {
      "application/vnd.jupyter.widget-view+json": {
       "model_id": "7d8b9a3287c84f9d921af839240116d9",
       "version_major": 2,
       "version_minor": 0
      },
      "text/plain": [
       "HBox(children=(IntProgress(value=0, description='Evaluation iteration', max=54, style=ProgressStyle(descriptio…"
      ]
     },
     "metadata": {},
     "output_type": "display_data"
    },
    {
     "name": "stderr",
     "output_type": "stream",
     "text": [
      "\r",
      "Epoch:  30%|███       | 6/20 [27:44<1:04:42, 277.30s/it]"
     ]
    },
    {
     "name": "stdout",
     "output_type": "stream",
     "text": [
      "\n",
      "Loss history: [0.19100835401978758, 0.19037974313660352, 0.22807689814793844, 0.23049031802522088, 0.25434399236648997]\n",
      "Dev loss: 0.24413716668452792\n"
     ]
    },
    {
     "data": {
      "application/vnd.jupyter.widget-view+json": {
       "model_id": "54e288309f4245649a015ee21d85be05",
       "version_major": 2,
       "version_minor": 0
      },
      "text/plain": [
       "HBox(children=(IntProgress(value=0, description='Training iteration', max=2458, style=ProgressStyle(descriptio…"
      ]
     },
     "metadata": {},
     "output_type": "display_data"
    },
    {
     "name": "stdout",
     "output_type": "stream",
     "text": [
      "\n"
     ]
    },
    {
     "data": {
      "application/vnd.jupyter.widget-view+json": {
       "model_id": "c9b3c5defc73407091bcf886f395849c",
       "version_major": 2,
       "version_minor": 0
      },
      "text/plain": [
       "HBox(children=(IntProgress(value=0, description='Evaluation iteration', max=54, style=ProgressStyle(descriptio…"
      ]
     },
     "metadata": {},
     "output_type": "display_data"
    },
    {
     "name": "stdout",
     "output_type": "stream",
     "text": [
      "\n",
      "Loss history: [0.19100835401978758, 0.19037974313660352, 0.22807689814793844, 0.23049031802522088, 0.25434399236648997, 0.24413716668452792]\n",
      "Dev loss: 0.23013176047674347\n",
      "No improvement on development set. Finish training.\n",
      "Loading model from /tmp/model.bin\n"
     ]
    },
    {
     "name": "stderr",
     "output_type": "stream",
     "text": [
      "\n",
      "I1108 12:07:32.586731 139696871913280 configuration_utils.py:151] loading configuration file https://s3.amazonaws.com/models.huggingface.co/bert/bert-large-uncased-config.json from cache at /home/yves/.cache/torch/transformers/6dfaed860471b03ab5b9acb6153bea82b6632fb9bbe514d3fff050fe1319ee6d.4c88e2dec8f8b017f319f6db2b157fee632c0860d9422e4851bd0d6999f9ce38\n",
      "I1108 12:07:32.589490 139696871913280 configuration_utils.py:168] Model config {\n",
      "  \"attention_probs_dropout_prob\": 0.1,\n",
      "  \"finetuning_task\": null,\n",
      "  \"hidden_act\": \"gelu\",\n",
      "  \"hidden_dropout_prob\": 0.1,\n",
      "  \"hidden_size\": 1024,\n",
      "  \"initializer_range\": 0.02,\n",
      "  \"intermediate_size\": 4096,\n",
      "  \"layer_norm_eps\": 1e-12,\n",
      "  \"max_position_embeddings\": 512,\n",
      "  \"num_attention_heads\": 16,\n",
      "  \"num_hidden_layers\": 24,\n",
      "  \"num_labels\": 7,\n",
      "  \"output_attentions\": false,\n",
      "  \"output_hidden_states\": false,\n",
      "  \"output_past\": true,\n",
      "  \"pruned_heads\": {},\n",
      "  \"torchscript\": false,\n",
      "  \"type_vocab_size\": 2,\n",
      "  \"use_bfloat16\": false,\n",
      "  \"vocab_size\": 30522\n",
      "}\n",
      "\n",
      "I1108 12:07:33.178118 139696871913280 modeling_utils.py:337] loading weights file https://s3.amazonaws.com/models.huggingface.co/bert/bert-large-uncased-pytorch_model.bin from cache at /home/yves/.cache/torch/transformers/54da47087cc86ce75324e4dc9bbb5f66c6e83a7c6bd23baea8b489acc8d09aa4.4d5343a4b979c4beeaadef17a0453d1bb183dd9b084f58b84c7cc781df343ae6\n"
     ]
    },
    {
     "data": {
      "application/vnd.jupyter.widget-view+json": {
       "model_id": "27d7889771d64f5f8f7b490afc491bcf",
       "version_major": 2,
       "version_minor": 0
      },
      "text/plain": [
       "HBox(children=(IntProgress(value=0, description='Evaluation iteration', max=80, style=ProgressStyle(descriptio…"
      ]
     },
     "metadata": {},
     "output_type": "display_data"
    },
    {
     "name": "stdout",
     "output_type": "stream",
     "text": [
      "\n",
      "Train size: 531\n",
      "Final train dataloader length: 2442\n"
     ]
    },
    {
     "name": "stderr",
     "output_type": "stream",
     "text": [
      "I1108 12:08:00.241011 139696871913280 configuration_utils.py:151] loading configuration file https://s3.amazonaws.com/models.huggingface.co/bert/bert-large-uncased-config.json from cache at /home/yves/.cache/torch/transformers/6dfaed860471b03ab5b9acb6153bea82b6632fb9bbe514d3fff050fe1319ee6d.4c88e2dec8f8b017f319f6db2b157fee632c0860d9422e4851bd0d6999f9ce38\n",
      "I1108 12:08:00.243623 139696871913280 configuration_utils.py:168] Model config {\n",
      "  \"attention_probs_dropout_prob\": 0.1,\n",
      "  \"finetuning_task\": null,\n",
      "  \"hidden_act\": \"gelu\",\n",
      "  \"hidden_dropout_prob\": 0.1,\n",
      "  \"hidden_size\": 1024,\n",
      "  \"initializer_range\": 0.02,\n",
      "  \"intermediate_size\": 4096,\n",
      "  \"layer_norm_eps\": 1e-12,\n",
      "  \"max_position_embeddings\": 512,\n",
      "  \"num_attention_heads\": 16,\n",
      "  \"num_hidden_layers\": 24,\n",
      "  \"num_labels\": 7,\n",
      "  \"output_attentions\": false,\n",
      "  \"output_hidden_states\": false,\n",
      "  \"output_past\": true,\n",
      "  \"pruned_heads\": {},\n",
      "  \"torchscript\": false,\n",
      "  \"type_vocab_size\": 2,\n",
      "  \"use_bfloat16\": false,\n",
      "  \"vocab_size\": 30522\n",
      "}\n",
      "\n",
      "I1108 12:08:00.798116 139696871913280 modeling_utils.py:337] loading weights file https://s3.amazonaws.com/models.huggingface.co/bert/bert-large-uncased-pytorch_model.bin from cache at /home/yves/.cache/torch/transformers/54da47087cc86ce75324e4dc9bbb5f66c6e83a7c6bd23baea8b489acc8d09aa4.4d5343a4b979c4beeaadef17a0453d1bb183dd9b084f58b84c7cc781df343ae6\n",
      "I1108 12:08:07.515454 139696871913280 modeling_utils.py:405] Weights of BertForMultiLabelSequenceClassification not initialized from pretrained model: ['classifier.weight', 'classifier.bias']\n",
      "I1108 12:08:07.516097 139696871913280 modeling_utils.py:408] Weights from pretrained model not used in BertForMultiLabelSequenceClassification: ['cls.predictions.bias', 'cls.predictions.transform.dense.weight', 'cls.predictions.transform.dense.bias', 'cls.predictions.decoder.weight', 'cls.seq_relationship.weight', 'cls.seq_relationship.bias', 'cls.predictions.transform.LayerNorm.weight', 'cls.predictions.transform.LayerNorm.bias']\n",
      "Epoch:   0%|          | 0/20 [00:00<?, ?it/s]"
     ]
    },
    {
     "data": {
      "application/vnd.jupyter.widget-view+json": {
       "model_id": "1a5320ab076b424c9c131429cc71856f",
       "version_major": 2,
       "version_minor": 0
      },
      "text/plain": [
       "HBox(children=(IntProgress(value=0, description='Training iteration', max=2442, style=ProgressStyle(descriptio…"
      ]
     },
     "metadata": {},
     "output_type": "display_data"
    },
    {
     "name": "stdout",
     "output_type": "stream",
     "text": [
      "\n"
     ]
    },
    {
     "data": {
      "application/vnd.jupyter.widget-view+json": {
       "model_id": "98a5fae4f95b4b57b702b7e3c8b6dc69",
       "version_major": 2,
       "version_minor": 0
      },
      "text/plain": [
       "HBox(children=(IntProgress(value=0, description='Evaluation iteration', max=54, style=ProgressStyle(descriptio…"
      ]
     },
     "metadata": {},
     "output_type": "display_data"
    },
    {
     "name": "stdout",
     "output_type": "stream",
     "text": [
      "\n",
      "Loss history: []\n",
      "Dev loss: 0.24435056966763954\n"
     ]
    },
    {
     "name": "stderr",
     "output_type": "stream",
     "text": [
      "\r",
      "Epoch:   5%|▌         | 1/20 [04:36<1:27:36, 276.67s/it]"
     ]
    },
    {
     "data": {
      "application/vnd.jupyter.widget-view+json": {
       "model_id": "d060d2b5d8a14c8581d5ae679c079c2d",
       "version_major": 2,
       "version_minor": 0
      },
      "text/plain": [
       "HBox(children=(IntProgress(value=0, description='Training iteration', max=2442, style=ProgressStyle(descriptio…"
      ]
     },
     "metadata": {},
     "output_type": "display_data"
    },
    {
     "name": "stdout",
     "output_type": "stream",
     "text": [
      "\n"
     ]
    },
    {
     "data": {
      "application/vnd.jupyter.widget-view+json": {
       "model_id": "f11b9c702ba5480e8855e63d5477636a",
       "version_major": 2,
       "version_minor": 0
      },
      "text/plain": [
       "HBox(children=(IntProgress(value=0, description='Evaluation iteration', max=54, style=ProgressStyle(descriptio…"
      ]
     },
     "metadata": {},
     "output_type": "display_data"
    },
    {
     "name": "stdout",
     "output_type": "stream",
     "text": [
      "\n",
      "Loss history: [0.24435056966763954]\n",
      "Dev loss: 0.17096968912691982\n"
     ]
    },
    {
     "name": "stderr",
     "output_type": "stream",
     "text": [
      "\r",
      "Epoch:  10%|█         | 2/20 [09:13<1:23:01, 276.77s/it]"
     ]
    },
    {
     "data": {
      "application/vnd.jupyter.widget-view+json": {
       "model_id": "823a8acca4064744bdc234d009de1611",
       "version_major": 2,
       "version_minor": 0
      },
      "text/plain": [
       "HBox(children=(IntProgress(value=0, description='Training iteration', max=2442, style=ProgressStyle(descriptio…"
      ]
     },
     "metadata": {},
     "output_type": "display_data"
    },
    {
     "name": "stdout",
     "output_type": "stream",
     "text": [
      "\n"
     ]
    },
    {
     "data": {
      "application/vnd.jupyter.widget-view+json": {
       "model_id": "94bcbbd5af2d49758a21a240df156211",
       "version_major": 2,
       "version_minor": 0
      },
      "text/plain": [
       "HBox(children=(IntProgress(value=0, description='Evaluation iteration', max=54, style=ProgressStyle(descriptio…"
      ]
     },
     "metadata": {},
     "output_type": "display_data"
    },
    {
     "name": "stdout",
     "output_type": "stream",
     "text": [
      "\n",
      "Loss history: [0.24435056966763954, 0.17096968912691982]\n",
      "Dev loss: 0.16318733867740742\n"
     ]
    },
    {
     "name": "stderr",
     "output_type": "stream",
     "text": [
      "\r",
      "Epoch:  15%|█▌        | 3/20 [13:50<1:18:27, 276.91s/it]"
     ]
    },
    {
     "data": {
      "application/vnd.jupyter.widget-view+json": {
       "model_id": "b27a105ad8fb466bb0848f53c2f61fa4",
       "version_major": 2,
       "version_minor": 0
      },
      "text/plain": [
       "HBox(children=(IntProgress(value=0, description='Training iteration', max=2442, style=ProgressStyle(descriptio…"
      ]
     },
     "metadata": {},
     "output_type": "display_data"
    },
    {
     "name": "stdout",
     "output_type": "stream",
     "text": [
      "\n"
     ]
    },
    {
     "data": {
      "application/vnd.jupyter.widget-view+json": {
       "model_id": "798dda14c0fa4c90946e6fec08a4b45d",
       "version_major": 2,
       "version_minor": 0
      },
      "text/plain": [
       "HBox(children=(IntProgress(value=0, description='Evaluation iteration', max=54, style=ProgressStyle(descriptio…"
      ]
     },
     "metadata": {},
     "output_type": "display_data"
    },
    {
     "name": "stdout",
     "output_type": "stream",
     "text": [
      "\n",
      "Loss history: [0.24435056966763954, 0.17096968912691982, 0.16318733867740742]\n",
      "Dev loss: 0.1595423951641553\n"
     ]
    },
    {
     "name": "stderr",
     "output_type": "stream",
     "text": [
      "\r",
      "Epoch:  20%|██        | 4/20 [18:27<1:13:49, 276.83s/it]"
     ]
    },
    {
     "data": {
      "application/vnd.jupyter.widget-view+json": {
       "model_id": "5ce999089675403f9646e252f4fe3e18",
       "version_major": 2,
       "version_minor": 0
      },
      "text/plain": [
       "HBox(children=(IntProgress(value=0, description='Training iteration', max=2442, style=ProgressStyle(descriptio…"
      ]
     },
     "metadata": {},
     "output_type": "display_data"
    },
    {
     "name": "stdout",
     "output_type": "stream",
     "text": [
      "\n"
     ]
    },
    {
     "data": {
      "application/vnd.jupyter.widget-view+json": {
       "model_id": "5ef73fda4c2c45b5bde295943a23a234",
       "version_major": 2,
       "version_minor": 0
      },
      "text/plain": [
       "HBox(children=(IntProgress(value=0, description='Evaluation iteration', max=54, style=ProgressStyle(descriptio…"
      ]
     },
     "metadata": {},
     "output_type": "display_data"
    },
    {
     "name": "stderr",
     "output_type": "stream",
     "text": [
      "\r",
      "Epoch:  25%|██▌       | 5/20 [23:03<1:09:06, 276.45s/it]"
     ]
    },
    {
     "name": "stdout",
     "output_type": "stream",
     "text": [
      "\n",
      "Loss history: [0.24435056966763954, 0.17096968912691982, 0.16318733867740742, 0.1595423951641553]\n",
      "Dev loss: 0.1669960622675717\n"
     ]
    },
    {
     "data": {
      "application/vnd.jupyter.widget-view+json": {
       "model_id": "5fd40b99109c4957a5c500c9932e259f",
       "version_major": 2,
       "version_minor": 0
      },
      "text/plain": [
       "HBox(children=(IntProgress(value=0, description='Training iteration', max=2442, style=ProgressStyle(descriptio…"
      ]
     },
     "metadata": {},
     "output_type": "display_data"
    },
    {
     "name": "stdout",
     "output_type": "stream",
     "text": [
      "\n"
     ]
    },
    {
     "data": {
      "application/vnd.jupyter.widget-view+json": {
       "model_id": "99881cb27f44464695790017c216ca15",
       "version_major": 2,
       "version_minor": 0
      },
      "text/plain": [
       "HBox(children=(IntProgress(value=0, description='Evaluation iteration', max=54, style=ProgressStyle(descriptio…"
      ]
     },
     "metadata": {},
     "output_type": "display_data"
    },
    {
     "name": "stderr",
     "output_type": "stream",
     "text": [
      "\r",
      "Epoch:  30%|███       | 6/20 [27:38<1:04:25, 276.11s/it]"
     ]
    },
    {
     "name": "stdout",
     "output_type": "stream",
     "text": [
      "\n",
      "Loss history: [0.24435056966763954, 0.17096968912691982, 0.16318733867740742, 0.1595423951641553, 0.1669960622675717]\n",
      "Dev loss: 0.1595736816008058\n"
     ]
    },
    {
     "data": {
      "application/vnd.jupyter.widget-view+json": {
       "model_id": "24ba2dde72e849d9bf2e6b9603948d01",
       "version_major": 2,
       "version_minor": 0
      },
      "text/plain": [
       "HBox(children=(IntProgress(value=0, description='Training iteration', max=2442, style=ProgressStyle(descriptio…"
      ]
     },
     "metadata": {},
     "output_type": "display_data"
    },
    {
     "name": "stdout",
     "output_type": "stream",
     "text": [
      "\n"
     ]
    },
    {
     "data": {
      "application/vnd.jupyter.widget-view+json": {
       "model_id": "a9abf05d833448eab1d40baabddaf5ed",
       "version_major": 2,
       "version_minor": 0
      },
      "text/plain": [
       "HBox(children=(IntProgress(value=0, description='Evaluation iteration', max=54, style=ProgressStyle(descriptio…"
      ]
     },
     "metadata": {},
     "output_type": "display_data"
    },
    {
     "name": "stderr",
     "output_type": "stream",
     "text": [
      "\r",
      "Epoch:  35%|███▌      | 7/20 [32:13<59:46, 275.90s/it]  "
     ]
    },
    {
     "name": "stdout",
     "output_type": "stream",
     "text": [
      "\n",
      "Loss history: [0.24435056966763954, 0.17096968912691982, 0.16318733867740742, 0.1595423951641553, 0.1669960622675717, 0.1595736816008058]\n",
      "Dev loss: 0.17558616397609175\n"
     ]
    },
    {
     "data": {
      "application/vnd.jupyter.widget-view+json": {
       "model_id": "9e558edf9d0f41e583d908c1a20790ba",
       "version_major": 2,
       "version_minor": 0
      },
      "text/plain": [
       "HBox(children=(IntProgress(value=0, description='Training iteration', max=2442, style=ProgressStyle(descriptio…"
      ]
     },
     "metadata": {},
     "output_type": "display_data"
    },
    {
     "name": "stdout",
     "output_type": "stream",
     "text": [
      "\n"
     ]
    },
    {
     "data": {
      "application/vnd.jupyter.widget-view+json": {
       "model_id": "e424f9e462c04c018c0f2b770b510164",
       "version_major": 2,
       "version_minor": 0
      },
      "text/plain": [
       "HBox(children=(IntProgress(value=0, description='Evaluation iteration', max=54, style=ProgressStyle(descriptio…"
      ]
     },
     "metadata": {},
     "output_type": "display_data"
    },
    {
     "name": "stderr",
     "output_type": "stream",
     "text": [
      "\r",
      "Epoch:  40%|████      | 8/20 [36:49<55:09, 275.80s/it]"
     ]
    },
    {
     "name": "stdout",
     "output_type": "stream",
     "text": [
      "\n",
      "Loss history: [0.24435056966763954, 0.17096968912691982, 0.16318733867740742, 0.1595423951641553, 0.1669960622675717, 0.1595736816008058, 0.17558616397609175]\n",
      "Dev loss: 0.1829868871891112\n"
     ]
    },
    {
     "data": {
      "application/vnd.jupyter.widget-view+json": {
       "model_id": "96eaf7f8b68647848587b8756015b7d3",
       "version_major": 2,
       "version_minor": 0
      },
      "text/plain": [
       "HBox(children=(IntProgress(value=0, description='Training iteration', max=2442, style=ProgressStyle(descriptio…"
      ]
     },
     "metadata": {},
     "output_type": "display_data"
    },
    {
     "name": "stdout",
     "output_type": "stream",
     "text": [
      "\n"
     ]
    },
    {
     "data": {
      "application/vnd.jupyter.widget-view+json": {
       "model_id": "c75168df4a43405cbaa871bc1d2f7174",
       "version_major": 2,
       "version_minor": 0
      },
      "text/plain": [
       "HBox(children=(IntProgress(value=0, description='Evaluation iteration', max=54, style=ProgressStyle(descriptio…"
      ]
     },
     "metadata": {},
     "output_type": "display_data"
    },
    {
     "name": "stdout",
     "output_type": "stream",
     "text": [
      "\n",
      "Loss history: [0.24435056966763954, 0.17096968912691982, 0.16318733867740742, 0.1595423951641553, 0.1669960622675717, 0.1595736816008058, 0.17558616397609175, 0.1829868871891112]\n",
      "Dev loss: 0.17274789610463712\n",
      "No improvement on development set. Finish training.\n",
      "Loading model from /tmp/model.bin\n"
     ]
    },
    {
     "name": "stderr",
     "output_type": "stream",
     "text": [
      "I1108 12:49:33.662733 139696871913280 configuration_utils.py:151] loading configuration file https://s3.amazonaws.com/models.huggingface.co/bert/bert-large-uncased-config.json from cache at /home/yves/.cache/torch/transformers/6dfaed860471b03ab5b9acb6153bea82b6632fb9bbe514d3fff050fe1319ee6d.4c88e2dec8f8b017f319f6db2b157fee632c0860d9422e4851bd0d6999f9ce38\n",
      "I1108 12:49:33.664699 139696871913280 configuration_utils.py:168] Model config {\n",
      "  \"attention_probs_dropout_prob\": 0.1,\n",
      "  \"finetuning_task\": null,\n",
      "  \"hidden_act\": \"gelu\",\n",
      "  \"hidden_dropout_prob\": 0.1,\n",
      "  \"hidden_size\": 1024,\n",
      "  \"initializer_range\": 0.02,\n",
      "  \"intermediate_size\": 4096,\n",
      "  \"layer_norm_eps\": 1e-12,\n",
      "  \"max_position_embeddings\": 512,\n",
      "  \"num_attention_heads\": 16,\n",
      "  \"num_hidden_layers\": 24,\n",
      "  \"num_labels\": 7,\n",
      "  \"output_attentions\": false,\n",
      "  \"output_hidden_states\": false,\n",
      "  \"output_past\": true,\n",
      "  \"pruned_heads\": {},\n",
      "  \"torchscript\": false,\n",
      "  \"type_vocab_size\": 2,\n",
      "  \"use_bfloat16\": false,\n",
      "  \"vocab_size\": 30522\n",
      "}\n",
      "\n",
      "I1108 12:49:34.198332 139696871913280 modeling_utils.py:337] loading weights file https://s3.amazonaws.com/models.huggingface.co/bert/bert-large-uncased-pytorch_model.bin from cache at /home/yves/.cache/torch/transformers/54da47087cc86ce75324e4dc9bbb5f66c6e83a7c6bd23baea8b489acc8d09aa4.4d5343a4b979c4beeaadef17a0453d1bb183dd9b084f58b84c7cc781df343ae6\n"
     ]
    },
    {
     "data": {
      "application/vnd.jupyter.widget-view+json": {
       "model_id": "dfd1c2bfc85f4b64a26bb6dc2587610a",
       "version_major": 2,
       "version_minor": 0
      },
      "text/plain": [
       "HBox(children=(IntProgress(value=0, description='Evaluation iteration', max=80, style=ProgressStyle(descriptio…"
      ]
     },
     "metadata": {},
     "output_type": "display_data"
    },
    {
     "name": "stdout",
     "output_type": "stream",
     "text": [
      "\n",
      "Train size: 531\n",
      "Final train dataloader length: 2450\n"
     ]
    },
    {
     "name": "stderr",
     "output_type": "stream",
     "text": [
      "I1108 12:50:00.913775 139696871913280 configuration_utils.py:151] loading configuration file https://s3.amazonaws.com/models.huggingface.co/bert/bert-large-uncased-config.json from cache at /home/yves/.cache/torch/transformers/6dfaed860471b03ab5b9acb6153bea82b6632fb9bbe514d3fff050fe1319ee6d.4c88e2dec8f8b017f319f6db2b157fee632c0860d9422e4851bd0d6999f9ce38\n",
      "I1108 12:50:00.916363 139696871913280 configuration_utils.py:168] Model config {\n",
      "  \"attention_probs_dropout_prob\": 0.1,\n",
      "  \"finetuning_task\": null,\n",
      "  \"hidden_act\": \"gelu\",\n",
      "  \"hidden_dropout_prob\": 0.1,\n",
      "  \"hidden_size\": 1024,\n",
      "  \"initializer_range\": 0.02,\n",
      "  \"intermediate_size\": 4096,\n",
      "  \"layer_norm_eps\": 1e-12,\n",
      "  \"max_position_embeddings\": 512,\n",
      "  \"num_attention_heads\": 16,\n",
      "  \"num_hidden_layers\": 24,\n",
      "  \"num_labels\": 7,\n",
      "  \"output_attentions\": false,\n",
      "  \"output_hidden_states\": false,\n",
      "  \"output_past\": true,\n",
      "  \"pruned_heads\": {},\n",
      "  \"torchscript\": false,\n",
      "  \"type_vocab_size\": 2,\n",
      "  \"use_bfloat16\": false,\n",
      "  \"vocab_size\": 30522\n",
      "}\n",
      "\n",
      "I1108 12:50:01.430385 139696871913280 modeling_utils.py:337] loading weights file https://s3.amazonaws.com/models.huggingface.co/bert/bert-large-uncased-pytorch_model.bin from cache at /home/yves/.cache/torch/transformers/54da47087cc86ce75324e4dc9bbb5f66c6e83a7c6bd23baea8b489acc8d09aa4.4d5343a4b979c4beeaadef17a0453d1bb183dd9b084f58b84c7cc781df343ae6\n",
      "I1108 12:50:08.056337 139696871913280 modeling_utils.py:405] Weights of BertForMultiLabelSequenceClassification not initialized from pretrained model: ['classifier.weight', 'classifier.bias']\n",
      "I1108 12:50:08.056975 139696871913280 modeling_utils.py:408] Weights from pretrained model not used in BertForMultiLabelSequenceClassification: ['cls.predictions.bias', 'cls.predictions.transform.dense.weight', 'cls.predictions.transform.dense.bias', 'cls.predictions.decoder.weight', 'cls.seq_relationship.weight', 'cls.seq_relationship.bias', 'cls.predictions.transform.LayerNorm.weight', 'cls.predictions.transform.LayerNorm.bias']\n",
      "\n",
      "Epoch:   0%|          | 0/20 [00:00<?, ?it/s]\u001b[A"
     ]
    },
    {
     "data": {
      "application/vnd.jupyter.widget-view+json": {
       "model_id": "99bfb5db39994cbc8f455c35ef8c4044",
       "version_major": 2,
       "version_minor": 0
      },
      "text/plain": [
       "HBox(children=(IntProgress(value=0, description='Training iteration', max=2450, style=ProgressStyle(descriptio…"
      ]
     },
     "metadata": {},
     "output_type": "display_data"
    },
    {
     "name": "stdout",
     "output_type": "stream",
     "text": [
      "\n"
     ]
    },
    {
     "data": {
      "application/vnd.jupyter.widget-view+json": {
       "model_id": "07c8d687617c43d1b5acb7b8f7ae0f13",
       "version_major": 2,
       "version_minor": 0
      },
      "text/plain": [
       "HBox(children=(IntProgress(value=0, description='Evaluation iteration', max=54, style=ProgressStyle(descriptio…"
      ]
     },
     "metadata": {},
     "output_type": "display_data"
    },
    {
     "name": "stdout",
     "output_type": "stream",
     "text": [
      "\n",
      "Loss history: []\n",
      "Dev loss: 0.24413795955479145\n"
     ]
    },
    {
     "name": "stderr",
     "output_type": "stream",
     "text": [
      "\n",
      "Epoch:   5%|▌         | 1/20 [04:37<1:28:01, 277.95s/it]\u001b[A"
     ]
    },
    {
     "data": {
      "application/vnd.jupyter.widget-view+json": {
       "model_id": "553ea7cb28424f80a0a6c80ef85c49ed",
       "version_major": 2,
       "version_minor": 0
      },
      "text/plain": [
       "HBox(children=(IntProgress(value=0, description='Training iteration', max=2450, style=ProgressStyle(descriptio…"
      ]
     },
     "metadata": {},
     "output_type": "display_data"
    },
    {
     "name": "stdout",
     "output_type": "stream",
     "text": [
      "\n"
     ]
    },
    {
     "data": {
      "application/vnd.jupyter.widget-view+json": {
       "model_id": "7bd9fcb653654ba8871856102e61d206",
       "version_major": 2,
       "version_minor": 0
      },
      "text/plain": [
       "HBox(children=(IntProgress(value=0, description='Evaluation iteration', max=54, style=ProgressStyle(descriptio…"
      ]
     },
     "metadata": {},
     "output_type": "display_data"
    },
    {
     "name": "stdout",
     "output_type": "stream",
     "text": [
      "\n",
      "Loss history: [0.24413795955479145]\n",
      "Dev loss: 0.23544599898849372\n"
     ]
    },
    {
     "name": "stderr",
     "output_type": "stream",
     "text": [
      "\n",
      "Epoch:  10%|█         | 2/20 [09:16<1:23:24, 278.02s/it]\u001b[A"
     ]
    },
    {
     "data": {
      "application/vnd.jupyter.widget-view+json": {
       "model_id": "ee6753d34da24ec38d632faf4e30e880",
       "version_major": 2,
       "version_minor": 0
      },
      "text/plain": [
       "HBox(children=(IntProgress(value=0, description='Training iteration', max=2450, style=ProgressStyle(descriptio…"
      ]
     },
     "metadata": {},
     "output_type": "display_data"
    },
    {
     "name": "stdout",
     "output_type": "stream",
     "text": [
      "\n"
     ]
    },
    {
     "data": {
      "application/vnd.jupyter.widget-view+json": {
       "model_id": "b30283cbd0094498b55e55a2e56c3384",
       "version_major": 2,
       "version_minor": 0
      },
      "text/plain": [
       "HBox(children=(IntProgress(value=0, description='Evaluation iteration', max=54, style=ProgressStyle(descriptio…"
      ]
     },
     "metadata": {},
     "output_type": "display_data"
    },
    {
     "name": "stdout",
     "output_type": "stream",
     "text": [
      "\n",
      "Loss history: [0.24413795955479145, 0.23544599898849372]\n",
      "Dev loss: 0.19090584229195007\n"
     ]
    },
    {
     "name": "stderr",
     "output_type": "stream",
     "text": [
      "\n",
      "Epoch:  15%|█▌        | 3/20 [13:54<1:18:46, 278.03s/it]\u001b[A"
     ]
    },
    {
     "data": {
      "application/vnd.jupyter.widget-view+json": {
       "model_id": "d5be177c2e954271a51976370f1dcad5",
       "version_major": 2,
       "version_minor": 0
      },
      "text/plain": [
       "HBox(children=(IntProgress(value=0, description='Training iteration', max=2450, style=ProgressStyle(descriptio…"
      ]
     },
     "metadata": {},
     "output_type": "display_data"
    },
    {
     "name": "stdout",
     "output_type": "stream",
     "text": [
      "\n"
     ]
    },
    {
     "data": {
      "application/vnd.jupyter.widget-view+json": {
       "model_id": "c3c7b41ecb5a4aff83a97a21062021e6",
       "version_major": 2,
       "version_minor": 0
      },
      "text/plain": [
       "HBox(children=(IntProgress(value=0, description='Evaluation iteration', max=54, style=ProgressStyle(descriptio…"
      ]
     },
     "metadata": {},
     "output_type": "display_data"
    },
    {
     "name": "stderr",
     "output_type": "stream",
     "text": [
      "\n",
      "Epoch:  20%|██        | 4/20 [18:30<1:14:01, 277.62s/it]\u001b[A"
     ]
    },
    {
     "name": "stdout",
     "output_type": "stream",
     "text": [
      "\n",
      "Loss history: [0.24413795955479145, 0.23544599898849372, 0.19090584229195007]\n",
      "Dev loss: 0.1935175382014778\n"
     ]
    },
    {
     "data": {
      "application/vnd.jupyter.widget-view+json": {
       "model_id": "972872aa652540039d57d951e31420cb",
       "version_major": 2,
       "version_minor": 0
      },
      "text/plain": [
       "HBox(children=(IntProgress(value=0, description='Training iteration', max=2450, style=ProgressStyle(descriptio…"
      ]
     },
     "metadata": {},
     "output_type": "display_data"
    },
    {
     "name": "stdout",
     "output_type": "stream",
     "text": [
      "\n"
     ]
    },
    {
     "data": {
      "application/vnd.jupyter.widget-view+json": {
       "model_id": "c7c07b77ae8747a4b65a87e12ee3408b",
       "version_major": 2,
       "version_minor": 0
      },
      "text/plain": [
       "HBox(children=(IntProgress(value=0, description='Evaluation iteration', max=54, style=ProgressStyle(descriptio…"
      ]
     },
     "metadata": {},
     "output_type": "display_data"
    },
    {
     "name": "stderr",
     "output_type": "stream",
     "text": [
      "\n",
      "Epoch:  25%|██▌       | 5/20 [23:07<1:09:19, 277.33s/it]\u001b[A"
     ]
    },
    {
     "name": "stdout",
     "output_type": "stream",
     "text": [
      "\n",
      "Loss history: [0.24413795955479145, 0.23544599898849372, 0.19090584229195007, 0.1935175382014778]\n",
      "Dev loss: 0.20176428752192468\n"
     ]
    },
    {
     "data": {
      "application/vnd.jupyter.widget-view+json": {
       "model_id": "0a496b4f91de4c1da0b421f3f6cedfe7",
       "version_major": 2,
       "version_minor": 0
      },
      "text/plain": [
       "HBox(children=(IntProgress(value=0, description='Training iteration', max=2450, style=ProgressStyle(descriptio…"
      ]
     },
     "metadata": {},
     "output_type": "display_data"
    },
    {
     "name": "stdout",
     "output_type": "stream",
     "text": [
      "\n"
     ]
    },
    {
     "data": {
      "application/vnd.jupyter.widget-view+json": {
       "model_id": "1bfadb3f584d4d159228512aa978201b",
       "version_major": 2,
       "version_minor": 0
      },
      "text/plain": [
       "HBox(children=(IntProgress(value=0, description='Evaluation iteration', max=54, style=ProgressStyle(descriptio…"
      ]
     },
     "metadata": {},
     "output_type": "display_data"
    },
    {
     "name": "stderr",
     "output_type": "stream",
     "text": [
      "\n",
      "Epoch:  30%|███       | 6/20 [27:44<1:04:39, 277.12s/it]\u001b[A"
     ]
    },
    {
     "name": "stdout",
     "output_type": "stream",
     "text": [
      "\n",
      "Loss history: [0.24413795955479145, 0.23544599898849372, 0.19090584229195007, 0.1935175382014778, 0.20176428752192468]\n",
      "Dev loss: 0.22635176009498537\n"
     ]
    },
    {
     "data": {
      "application/vnd.jupyter.widget-view+json": {
       "model_id": "ea11cd2cbc604cd28a9559cbe5267b44",
       "version_major": 2,
       "version_minor": 0
      },
      "text/plain": [
       "HBox(children=(IntProgress(value=0, description='Training iteration', max=2450, style=ProgressStyle(descriptio…"
      ]
     },
     "metadata": {},
     "output_type": "display_data"
    },
    {
     "name": "stdout",
     "output_type": "stream",
     "text": [
      "\n"
     ]
    },
    {
     "data": {
      "application/vnd.jupyter.widget-view+json": {
       "model_id": "b105f0cfd4044d0bb6a4c5c8aaefd114",
       "version_major": 2,
       "version_minor": 0
      },
      "text/plain": [
       "HBox(children=(IntProgress(value=0, description='Evaluation iteration', max=54, style=ProgressStyle(descriptio…"
      ]
     },
     "metadata": {},
     "output_type": "display_data"
    },
    {
     "name": "stderr",
     "output_type": "stream",
     "text": [
      "\n",
      "Epoch:  35%|███▌      | 7/20 [32:20<1:00:00, 276.98s/it]\u001b[A"
     ]
    },
    {
     "name": "stdout",
     "output_type": "stream",
     "text": [
      "\n",
      "Loss history: [0.24413795955479145, 0.23544599898849372, 0.19090584229195007, 0.1935175382014778, 0.20176428752192468, 0.22635176009498537]\n",
      "Dev loss: 0.20429220528307337\n"
     ]
    },
    {
     "data": {
      "application/vnd.jupyter.widget-view+json": {
       "model_id": "18e408beed5d44bdbc9b298adf0fb4b3",
       "version_major": 2,
       "version_minor": 0
      },
      "text/plain": [
       "HBox(children=(IntProgress(value=0, description='Training iteration', max=2450, style=ProgressStyle(descriptio…"
      ]
     },
     "metadata": {},
     "output_type": "display_data"
    },
    {
     "name": "stdout",
     "output_type": "stream",
     "text": [
      "\n"
     ]
    },
    {
     "data": {
      "application/vnd.jupyter.widget-view+json": {
       "model_id": "36a4c832c0454f56a279d65517b594ae",
       "version_major": 2,
       "version_minor": 0
      },
      "text/plain": [
       "HBox(children=(IntProgress(value=0, description='Evaluation iteration', max=54, style=ProgressStyle(descriptio…"
      ]
     },
     "metadata": {},
     "output_type": "display_data"
    },
    {
     "name": "stdout",
     "output_type": "stream",
     "text": [
      "\n",
      "Loss history: [0.24413795955479145, 0.23544599898849372, 0.19090584229195007, 0.1935175382014778, 0.20176428752192468, 0.22635176009498537, 0.20429220528307337]\n",
      "Dev loss: 0.234201343945676\n",
      "No improvement on development set. Finish training.\n",
      "Loading model from /tmp/model.bin\n"
     ]
    },
    {
     "name": "stderr",
     "output_type": "stream",
     "text": [
      "I1108 13:27:06.571524 139696871913280 configuration_utils.py:151] loading configuration file https://s3.amazonaws.com/models.huggingface.co/bert/bert-large-uncased-config.json from cache at /home/yves/.cache/torch/transformers/6dfaed860471b03ab5b9acb6153bea82b6632fb9bbe514d3fff050fe1319ee6d.4c88e2dec8f8b017f319f6db2b157fee632c0860d9422e4851bd0d6999f9ce38\n",
      "I1108 13:27:06.573648 139696871913280 configuration_utils.py:168] Model config {\n",
      "  \"attention_probs_dropout_prob\": 0.1,\n",
      "  \"finetuning_task\": null,\n",
      "  \"hidden_act\": \"gelu\",\n",
      "  \"hidden_dropout_prob\": 0.1,\n",
      "  \"hidden_size\": 1024,\n",
      "  \"initializer_range\": 0.02,\n",
      "  \"intermediate_size\": 4096,\n",
      "  \"layer_norm_eps\": 1e-12,\n",
      "  \"max_position_embeddings\": 512,\n",
      "  \"num_attention_heads\": 16,\n",
      "  \"num_hidden_layers\": 24,\n",
      "  \"num_labels\": 7,\n",
      "  \"output_attentions\": false,\n",
      "  \"output_hidden_states\": false,\n",
      "  \"output_past\": true,\n",
      "  \"pruned_heads\": {},\n",
      "  \"torchscript\": false,\n",
      "  \"type_vocab_size\": 2,\n",
      "  \"use_bfloat16\": false,\n",
      "  \"vocab_size\": 30522\n",
      "}\n",
      "\n",
      "I1108 13:27:07.098034 139696871913280 modeling_utils.py:337] loading weights file https://s3.amazonaws.com/models.huggingface.co/bert/bert-large-uncased-pytorch_model.bin from cache at /home/yves/.cache/torch/transformers/54da47087cc86ce75324e4dc9bbb5f66c6e83a7c6bd23baea8b489acc8d09aa4.4d5343a4b979c4beeaadef17a0453d1bb183dd9b084f58b84c7cc781df343ae6\n"
     ]
    },
    {
     "data": {
      "application/vnd.jupyter.widget-view+json": {
       "model_id": "f3ef522bc8f54ffcb9cf4891f2f2f8e6",
       "version_major": 2,
       "version_minor": 0
      },
      "text/plain": [
       "HBox(children=(IntProgress(value=0, description='Evaluation iteration', max=80, style=ProgressStyle(descriptio…"
      ]
     },
     "metadata": {},
     "output_type": "display_data"
    },
    {
     "name": "stdout",
     "output_type": "stream",
     "text": [
      "\n",
      "Train size: 532\n",
      "Final train dataloader length: 2462\n"
     ]
    },
    {
     "name": "stderr",
     "output_type": "stream",
     "text": [
      "I1108 13:27:33.765176 139696871913280 configuration_utils.py:151] loading configuration file https://s3.amazonaws.com/models.huggingface.co/bert/bert-large-uncased-config.json from cache at /home/yves/.cache/torch/transformers/6dfaed860471b03ab5b9acb6153bea82b6632fb9bbe514d3fff050fe1319ee6d.4c88e2dec8f8b017f319f6db2b157fee632c0860d9422e4851bd0d6999f9ce38\n",
      "I1108 13:27:33.766828 139696871913280 configuration_utils.py:168] Model config {\n",
      "  \"attention_probs_dropout_prob\": 0.1,\n",
      "  \"finetuning_task\": null,\n",
      "  \"hidden_act\": \"gelu\",\n",
      "  \"hidden_dropout_prob\": 0.1,\n",
      "  \"hidden_size\": 1024,\n",
      "  \"initializer_range\": 0.02,\n",
      "  \"intermediate_size\": 4096,\n",
      "  \"layer_norm_eps\": 1e-12,\n",
      "  \"max_position_embeddings\": 512,\n",
      "  \"num_attention_heads\": 16,\n",
      "  \"num_hidden_layers\": 24,\n",
      "  \"num_labels\": 7,\n",
      "  \"output_attentions\": false,\n",
      "  \"output_hidden_states\": false,\n",
      "  \"output_past\": true,\n",
      "  \"pruned_heads\": {},\n",
      "  \"torchscript\": false,\n",
      "  \"type_vocab_size\": 2,\n",
      "  \"use_bfloat16\": false,\n",
      "  \"vocab_size\": 30522\n",
      "}\n",
      "\n",
      "I1108 13:27:34.288079 139696871913280 modeling_utils.py:337] loading weights file https://s3.amazonaws.com/models.huggingface.co/bert/bert-large-uncased-pytorch_model.bin from cache at /home/yves/.cache/torch/transformers/54da47087cc86ce75324e4dc9bbb5f66c6e83a7c6bd23baea8b489acc8d09aa4.4d5343a4b979c4beeaadef17a0453d1bb183dd9b084f58b84c7cc781df343ae6\n",
      "I1108 13:27:40.717137 139696871913280 modeling_utils.py:405] Weights of BertForMultiLabelSequenceClassification not initialized from pretrained model: ['classifier.weight', 'classifier.bias']\n",
      "I1108 13:27:40.717702 139696871913280 modeling_utils.py:408] Weights from pretrained model not used in BertForMultiLabelSequenceClassification: ['cls.predictions.bias', 'cls.predictions.transform.dense.weight', 'cls.predictions.transform.dense.bias', 'cls.predictions.decoder.weight', 'cls.seq_relationship.weight', 'cls.seq_relationship.bias', 'cls.predictions.transform.LayerNorm.weight', 'cls.predictions.transform.LayerNorm.bias']\n",
      "\n",
      "\n",
      "Epoch:   0%|          | 0/20 [00:00<?, ?it/s]\u001b[A\u001b[A"
     ]
    },
    {
     "data": {
      "application/vnd.jupyter.widget-view+json": {
       "model_id": "19c2dc678a8f47dcb0b2700693665884",
       "version_major": 2,
       "version_minor": 0
      },
      "text/plain": [
       "HBox(children=(IntProgress(value=0, description='Training iteration', max=2462, style=ProgressStyle(descriptio…"
      ]
     },
     "metadata": {},
     "output_type": "display_data"
    },
    {
     "name": "stdout",
     "output_type": "stream",
     "text": [
      "\n"
     ]
    },
    {
     "data": {
      "application/vnd.jupyter.widget-view+json": {
       "model_id": "ec2b3b8b75f74b23bf594942071853e1",
       "version_major": 2,
       "version_minor": 0
      },
      "text/plain": [
       "HBox(children=(IntProgress(value=0, description='Evaluation iteration', max=54, style=ProgressStyle(descriptio…"
      ]
     },
     "metadata": {},
     "output_type": "display_data"
    },
    {
     "name": "stdout",
     "output_type": "stream",
     "text": [
      "\n",
      "Loss history: []\n",
      "Dev loss: 0.2418466588413274\n"
     ]
    },
    {
     "name": "stderr",
     "output_type": "stream",
     "text": [
      "\n",
      "\n",
      "Epoch:   5%|▌         | 1/20 [04:39<1:28:22, 279.07s/it]\u001b[A\u001b[A"
     ]
    },
    {
     "data": {
      "application/vnd.jupyter.widget-view+json": {
       "model_id": "35bfe5c1efcd465181c78c5348c10fb7",
       "version_major": 2,
       "version_minor": 0
      },
      "text/plain": [
       "HBox(children=(IntProgress(value=0, description='Training iteration', max=2462, style=ProgressStyle(descriptio…"
      ]
     },
     "metadata": {},
     "output_type": "display_data"
    },
    {
     "name": "stdout",
     "output_type": "stream",
     "text": [
      "\n"
     ]
    },
    {
     "data": {
      "application/vnd.jupyter.widget-view+json": {
       "model_id": "b2f07883e3c84c78b24afd6dfc19f88c",
       "version_major": 2,
       "version_minor": 0
      },
      "text/plain": [
       "HBox(children=(IntProgress(value=0, description='Evaluation iteration', max=54, style=ProgressStyle(descriptio…"
      ]
     },
     "metadata": {},
     "output_type": "display_data"
    },
    {
     "name": "stdout",
     "output_type": "stream",
     "text": [
      "\n",
      "Loss history: [0.2418466588413274]\n",
      "Dev loss: 0.15891710623960803\n"
     ]
    },
    {
     "name": "stderr",
     "output_type": "stream",
     "text": [
      "\n",
      "\n",
      "Epoch:  10%|█         | 2/20 [09:18<1:23:44, 279.12s/it]\u001b[A\u001b[A"
     ]
    },
    {
     "data": {
      "application/vnd.jupyter.widget-view+json": {
       "model_id": "e04081f3e5734355a36f00d55ccad674",
       "version_major": 2,
       "version_minor": 0
      },
      "text/plain": [
       "HBox(children=(IntProgress(value=0, description='Training iteration', max=2462, style=ProgressStyle(descriptio…"
      ]
     },
     "metadata": {},
     "output_type": "display_data"
    },
    {
     "name": "stdout",
     "output_type": "stream",
     "text": [
      "\n"
     ]
    },
    {
     "data": {
      "application/vnd.jupyter.widget-view+json": {
       "model_id": "a766edfad986496d95fff3b8e5aaff3b",
       "version_major": 2,
       "version_minor": 0
      },
      "text/plain": [
       "HBox(children=(IntProgress(value=0, description='Evaluation iteration', max=54, style=ProgressStyle(descriptio…"
      ]
     },
     "metadata": {},
     "output_type": "display_data"
    },
    {
     "name": "stderr",
     "output_type": "stream",
     "text": [
      "\n",
      "\n",
      "Epoch:  15%|█▌        | 3/20 [13:56<1:18:58, 278.76s/it]\u001b[A\u001b[A"
     ]
    },
    {
     "name": "stdout",
     "output_type": "stream",
     "text": [
      "\n",
      "Loss history: [0.2418466588413274, 0.15891710623960803]\n",
      "Dev loss: 0.1897519486611364\n"
     ]
    },
    {
     "data": {
      "application/vnd.jupyter.widget-view+json": {
       "model_id": "c4b663a53bdf424985e3cfefa63523be",
       "version_major": 2,
       "version_minor": 0
      },
      "text/plain": [
       "HBox(children=(IntProgress(value=0, description='Training iteration', max=2462, style=ProgressStyle(descriptio…"
      ]
     },
     "metadata": {},
     "output_type": "display_data"
    },
    {
     "name": "stdout",
     "output_type": "stream",
     "text": [
      "\n"
     ]
    },
    {
     "data": {
      "application/vnd.jupyter.widget-view+json": {
       "model_id": "00d52f21478e46448ddf51b294f8f612",
       "version_major": 2,
       "version_minor": 0
      },
      "text/plain": [
       "HBox(children=(IntProgress(value=0, description='Evaluation iteration', max=54, style=ProgressStyle(descriptio…"
      ]
     },
     "metadata": {},
     "output_type": "display_data"
    },
    {
     "name": "stderr",
     "output_type": "stream",
     "text": [
      "\n",
      "\n",
      "Epoch:  20%|██        | 4/20 [18:33<1:14:15, 278.45s/it]\u001b[A\u001b[A"
     ]
    },
    {
     "name": "stdout",
     "output_type": "stream",
     "text": [
      "\n",
      "Loss history: [0.2418466588413274, 0.15891710623960803, 0.1897519486611364]\n",
      "Dev loss: 0.1730854135023913\n"
     ]
    },
    {
     "data": {
      "application/vnd.jupyter.widget-view+json": {
       "model_id": "ee79a4c4294b482c873e498d3651e704",
       "version_major": 2,
       "version_minor": 0
      },
      "text/plain": [
       "HBox(children=(IntProgress(value=0, description='Training iteration', max=2462, style=ProgressStyle(descriptio…"
      ]
     },
     "metadata": {},
     "output_type": "display_data"
    },
    {
     "name": "stdout",
     "output_type": "stream",
     "text": [
      "\n"
     ]
    },
    {
     "data": {
      "application/vnd.jupyter.widget-view+json": {
       "model_id": "b285a0ba4d8a443eb62f09fd4a55a6a5",
       "version_major": 2,
       "version_minor": 0
      },
      "text/plain": [
       "HBox(children=(IntProgress(value=0, description='Evaluation iteration', max=54, style=ProgressStyle(descriptio…"
      ]
     },
     "metadata": {},
     "output_type": "display_data"
    },
    {
     "name": "stderr",
     "output_type": "stream",
     "text": [
      "\n",
      "\n",
      "Epoch:  25%|██▌       | 5/20 [23:11<1:09:33, 278.24s/it]\u001b[A\u001b[A"
     ]
    },
    {
     "name": "stdout",
     "output_type": "stream",
     "text": [
      "\n",
      "Loss history: [0.2418466588413274, 0.15891710623960803, 0.1897519486611364, 0.1730854135023913]\n",
      "Dev loss: 0.171859078221368\n"
     ]
    },
    {
     "data": {
      "application/vnd.jupyter.widget-view+json": {
       "model_id": "835f146ef79349779ca0e4fd28b2256f",
       "version_major": 2,
       "version_minor": 0
      },
      "text/plain": [
       "HBox(children=(IntProgress(value=0, description='Training iteration', max=2462, style=ProgressStyle(descriptio…"
      ]
     },
     "metadata": {},
     "output_type": "display_data"
    },
    {
     "name": "stdout",
     "output_type": "stream",
     "text": [
      "\n"
     ]
    },
    {
     "data": {
      "application/vnd.jupyter.widget-view+json": {
       "model_id": "b9f7a24172ae4ff09aafb469a7301abc",
       "version_major": 2,
       "version_minor": 0
      },
      "text/plain": [
       "HBox(children=(IntProgress(value=0, description='Evaluation iteration', max=54, style=ProgressStyle(descriptio…"
      ]
     },
     "metadata": {},
     "output_type": "display_data"
    },
    {
     "name": "stderr",
     "output_type": "stream",
     "text": [
      "\n",
      "\n",
      "Epoch:  30%|███       | 6/20 [27:49<1:04:54, 278.15s/it]\u001b[A\u001b[A"
     ]
    },
    {
     "name": "stdout",
     "output_type": "stream",
     "text": [
      "\n",
      "Loss history: [0.2418466588413274, 0.15891710623960803, 0.1897519486611364, 0.1730854135023913, 0.171859078221368]\n",
      "Dev loss: 0.20918547528951117\n"
     ]
    },
    {
     "data": {
      "application/vnd.jupyter.widget-view+json": {
       "model_id": "54031e122e6944819847f3617b2d8fe2",
       "version_major": 2,
       "version_minor": 0
      },
      "text/plain": [
       "HBox(children=(IntProgress(value=0, description='Training iteration', max=2462, style=ProgressStyle(descriptio…"
      ]
     },
     "metadata": {},
     "output_type": "display_data"
    },
    {
     "name": "stdout",
     "output_type": "stream",
     "text": [
      "\n"
     ]
    },
    {
     "data": {
      "application/vnd.jupyter.widget-view+json": {
       "model_id": "21628647a2c34da298a024c91dd5a672",
       "version_major": 2,
       "version_minor": 0
      },
      "text/plain": [
       "HBox(children=(IntProgress(value=0, description='Evaluation iteration', max=54, style=ProgressStyle(descriptio…"
      ]
     },
     "metadata": {},
     "output_type": "display_data"
    },
    {
     "name": "stdout",
     "output_type": "stream",
     "text": [
      "\n",
      "Loss history: [0.2418466588413274, 0.15891710623960803, 0.1897519486611364, 0.1730854135023913, 0.171859078221368, 0.20918547528951117]\n",
      "Dev loss: 0.18263974817280001\n",
      "No improvement on development set. Finish training.\n",
      "Loading model from /tmp/model.bin\n"
     ]
    },
    {
     "name": "stderr",
     "output_type": "stream",
     "text": [
      "I1108 14:00:09.278897 139696871913280 configuration_utils.py:151] loading configuration file https://s3.amazonaws.com/models.huggingface.co/bert/bert-large-uncased-config.json from cache at /home/yves/.cache/torch/transformers/6dfaed860471b03ab5b9acb6153bea82b6632fb9bbe514d3fff050fe1319ee6d.4c88e2dec8f8b017f319f6db2b157fee632c0860d9422e4851bd0d6999f9ce38\n",
      "I1108 14:00:09.281495 139696871913280 configuration_utils.py:168] Model config {\n",
      "  \"attention_probs_dropout_prob\": 0.1,\n",
      "  \"finetuning_task\": null,\n",
      "  \"hidden_act\": \"gelu\",\n",
      "  \"hidden_dropout_prob\": 0.1,\n",
      "  \"hidden_size\": 1024,\n",
      "  \"initializer_range\": 0.02,\n",
      "  \"intermediate_size\": 4096,\n",
      "  \"layer_norm_eps\": 1e-12,\n",
      "  \"max_position_embeddings\": 512,\n",
      "  \"num_attention_heads\": 16,\n",
      "  \"num_hidden_layers\": 24,\n",
      "  \"num_labels\": 7,\n",
      "  \"output_attentions\": false,\n",
      "  \"output_hidden_states\": false,\n",
      "  \"output_past\": true,\n",
      "  \"pruned_heads\": {},\n",
      "  \"torchscript\": false,\n",
      "  \"type_vocab_size\": 2,\n",
      "  \"use_bfloat16\": false,\n",
      "  \"vocab_size\": 30522\n",
      "}\n",
      "\n",
      "I1108 14:00:09.789569 139696871913280 modeling_utils.py:337] loading weights file https://s3.amazonaws.com/models.huggingface.co/bert/bert-large-uncased-pytorch_model.bin from cache at /home/yves/.cache/torch/transformers/54da47087cc86ce75324e4dc9bbb5f66c6e83a7c6bd23baea8b489acc8d09aa4.4d5343a4b979c4beeaadef17a0453d1bb183dd9b084f58b84c7cc781df343ae6\n"
     ]
    },
    {
     "data": {
      "application/vnd.jupyter.widget-view+json": {
       "model_id": "c5640f68313d45fa9220bfd111293737",
       "version_major": 2,
       "version_minor": 0
      },
      "text/plain": [
       "HBox(children=(IntProgress(value=0, description='Evaluation iteration', max=80, style=ProgressStyle(descriptio…"
      ]
     },
     "metadata": {},
     "output_type": "display_data"
    },
    {
     "name": "stdout",
     "output_type": "stream",
     "text": [
      "\n",
      "Train size: 532\n",
      "Final train dataloader length: 2466\n"
     ]
    },
    {
     "name": "stderr",
     "output_type": "stream",
     "text": [
      "I1108 14:00:36.346668 139696871913280 configuration_utils.py:151] loading configuration file https://s3.amazonaws.com/models.huggingface.co/bert/bert-large-uncased-config.json from cache at /home/yves/.cache/torch/transformers/6dfaed860471b03ab5b9acb6153bea82b6632fb9bbe514d3fff050fe1319ee6d.4c88e2dec8f8b017f319f6db2b157fee632c0860d9422e4851bd0d6999f9ce38\n",
      "I1108 14:00:36.349441 139696871913280 configuration_utils.py:168] Model config {\n",
      "  \"attention_probs_dropout_prob\": 0.1,\n",
      "  \"finetuning_task\": null,\n",
      "  \"hidden_act\": \"gelu\",\n",
      "  \"hidden_dropout_prob\": 0.1,\n",
      "  \"hidden_size\": 1024,\n",
      "  \"initializer_range\": 0.02,\n",
      "  \"intermediate_size\": 4096,\n",
      "  \"layer_norm_eps\": 1e-12,\n",
      "  \"max_position_embeddings\": 512,\n",
      "  \"num_attention_heads\": 16,\n",
      "  \"num_hidden_layers\": 24,\n",
      "  \"num_labels\": 7,\n",
      "  \"output_attentions\": false,\n",
      "  \"output_hidden_states\": false,\n",
      "  \"output_past\": true,\n",
      "  \"pruned_heads\": {},\n",
      "  \"torchscript\": false,\n",
      "  \"type_vocab_size\": 2,\n",
      "  \"use_bfloat16\": false,\n",
      "  \"vocab_size\": 30522\n",
      "}\n",
      "\n",
      "I1108 14:00:36.864582 139696871913280 modeling_utils.py:337] loading weights file https://s3.amazonaws.com/models.huggingface.co/bert/bert-large-uncased-pytorch_model.bin from cache at /home/yves/.cache/torch/transformers/54da47087cc86ce75324e4dc9bbb5f66c6e83a7c6bd23baea8b489acc8d09aa4.4d5343a4b979c4beeaadef17a0453d1bb183dd9b084f58b84c7cc781df343ae6\n",
      "I1108 14:00:43.433641 139696871913280 modeling_utils.py:405] Weights of BertForMultiLabelSequenceClassification not initialized from pretrained model: ['classifier.weight', 'classifier.bias']\n",
      "I1108 14:00:43.434206 139696871913280 modeling_utils.py:408] Weights from pretrained model not used in BertForMultiLabelSequenceClassification: ['cls.predictions.bias', 'cls.predictions.transform.dense.weight', 'cls.predictions.transform.dense.bias', 'cls.predictions.decoder.weight', 'cls.seq_relationship.weight', 'cls.seq_relationship.bias', 'cls.predictions.transform.LayerNorm.weight', 'cls.predictions.transform.LayerNorm.bias']\n",
      "\n",
      "\n",
      "\n",
      "Epoch:   0%|          | 0/20 [00:00<?, ?it/s]\u001b[A\u001b[A\u001b[A"
     ]
    },
    {
     "data": {
      "application/vnd.jupyter.widget-view+json": {
       "model_id": "ecbf8f5388f443cbbd3e5b68864b3528",
       "version_major": 2,
       "version_minor": 0
      },
      "text/plain": [
       "HBox(children=(IntProgress(value=0, description='Training iteration', max=2466, style=ProgressStyle(descriptio…"
      ]
     },
     "metadata": {},
     "output_type": "display_data"
    },
    {
     "name": "stdout",
     "output_type": "stream",
     "text": [
      "\n"
     ]
    },
    {
     "data": {
      "application/vnd.jupyter.widget-view+json": {
       "model_id": "31f37a5e5a5e4df0ab30fa832b0fbee2",
       "version_major": 2,
       "version_minor": 0
      },
      "text/plain": [
       "HBox(children=(IntProgress(value=0, description='Evaluation iteration', max=54, style=ProgressStyle(descriptio…"
      ]
     },
     "metadata": {},
     "output_type": "display_data"
    },
    {
     "name": "stdout",
     "output_type": "stream",
     "text": [
      "\n",
      "Loss history: []\n",
      "Dev loss: 0.23329125689687552\n"
     ]
    },
    {
     "name": "stderr",
     "output_type": "stream",
     "text": [
      "\n",
      "\n",
      "\n",
      "Epoch:   5%|▌         | 1/20 [04:39<1:28:33, 279.66s/it]\u001b[A\u001b[A\u001b[A"
     ]
    },
    {
     "data": {
      "application/vnd.jupyter.widget-view+json": {
       "model_id": "1fef44d665764eeab7d42b7ddf6a3dc6",
       "version_major": 2,
       "version_minor": 0
      },
      "text/plain": [
       "HBox(children=(IntProgress(value=0, description='Training iteration', max=2466, style=ProgressStyle(descriptio…"
      ]
     },
     "metadata": {},
     "output_type": "display_data"
    },
    {
     "name": "stdout",
     "output_type": "stream",
     "text": [
      "\n"
     ]
    },
    {
     "data": {
      "application/vnd.jupyter.widget-view+json": {
       "model_id": "9a36b4e100dd4e61aad7e17451b1740a",
       "version_major": 2,
       "version_minor": 0
      },
      "text/plain": [
       "HBox(children=(IntProgress(value=0, description='Evaluation iteration', max=54, style=ProgressStyle(descriptio…"
      ]
     },
     "metadata": {},
     "output_type": "display_data"
    },
    {
     "name": "stdout",
     "output_type": "stream",
     "text": [
      "\n",
      "Loss history: [0.23329125689687552]\n",
      "Dev loss: 0.17894791580598662\n"
     ]
    },
    {
     "name": "stderr",
     "output_type": "stream",
     "text": [
      "\n",
      "\n",
      "\n",
      "Epoch:  10%|█         | 2/20 [09:19<1:23:56, 279.81s/it]\u001b[A\u001b[A\u001b[A"
     ]
    },
    {
     "data": {
      "application/vnd.jupyter.widget-view+json": {
       "model_id": "9960524ed18d43ddbae44d63355867d8",
       "version_major": 2,
       "version_minor": 0
      },
      "text/plain": [
       "HBox(children=(IntProgress(value=0, description='Training iteration', max=2466, style=ProgressStyle(descriptio…"
      ]
     },
     "metadata": {},
     "output_type": "display_data"
    },
    {
     "name": "stdout",
     "output_type": "stream",
     "text": [
      "\n"
     ]
    },
    {
     "data": {
      "application/vnd.jupyter.widget-view+json": {
       "model_id": "727ecb6de45b4bc2a92c3dec5a576cf5",
       "version_major": 2,
       "version_minor": 0
      },
      "text/plain": [
       "HBox(children=(IntProgress(value=0, description='Evaluation iteration', max=54, style=ProgressStyle(descriptio…"
      ]
     },
     "metadata": {},
     "output_type": "display_data"
    },
    {
     "name": "stdout",
     "output_type": "stream",
     "text": [
      "\n",
      "Loss history: [0.23329125689687552, 0.17894791580598662]\n",
      "Dev loss: 0.17482026204190873\n"
     ]
    },
    {
     "name": "stderr",
     "output_type": "stream",
     "text": [
      "\n",
      "\n",
      "\n",
      "Epoch:  15%|█▌        | 3/20 [14:00<1:19:18, 279.92s/it]\u001b[A\u001b[A\u001b[A"
     ]
    },
    {
     "data": {
      "application/vnd.jupyter.widget-view+json": {
       "model_id": "8503449252554b44a2a09e278aeed56b",
       "version_major": 2,
       "version_minor": 0
      },
      "text/plain": [
       "HBox(children=(IntProgress(value=0, description='Training iteration', max=2466, style=ProgressStyle(descriptio…"
      ]
     },
     "metadata": {},
     "output_type": "display_data"
    },
    {
     "name": "stdout",
     "output_type": "stream",
     "text": [
      "\n"
     ]
    },
    {
     "data": {
      "application/vnd.jupyter.widget-view+json": {
       "model_id": "85d3f808b9944ae589be590864305799",
       "version_major": 2,
       "version_minor": 0
      },
      "text/plain": [
       "HBox(children=(IntProgress(value=0, description='Evaluation iteration', max=54, style=ProgressStyle(descriptio…"
      ]
     },
     "metadata": {},
     "output_type": "display_data"
    },
    {
     "name": "stderr",
     "output_type": "stream",
     "text": [
      "\n",
      "\n",
      "\n",
      "Epoch:  20%|██        | 4/20 [18:38<1:14:33, 279.60s/it]\u001b[A\u001b[A\u001b[A"
     ]
    },
    {
     "name": "stdout",
     "output_type": "stream",
     "text": [
      "\n",
      "Loss history: [0.23329125689687552, 0.17894791580598662, 0.17482026204190873]\n",
      "Dev loss: 0.20566614400767894\n"
     ]
    },
    {
     "data": {
      "application/vnd.jupyter.widget-view+json": {
       "model_id": "d45bd9868f1e4ce1953884ed810bff42",
       "version_major": 2,
       "version_minor": 0
      },
      "text/plain": [
       "HBox(children=(IntProgress(value=0, description='Training iteration', max=2466, style=ProgressStyle(descriptio…"
      ]
     },
     "metadata": {},
     "output_type": "display_data"
    },
    {
     "name": "stdout",
     "output_type": "stream",
     "text": [
      "\n"
     ]
    },
    {
     "data": {
      "application/vnd.jupyter.widget-view+json": {
       "model_id": "e2e12c45d78d45d68e5a08c9e8bee778",
       "version_major": 2,
       "version_minor": 0
      },
      "text/plain": [
       "HBox(children=(IntProgress(value=0, description='Evaluation iteration', max=54, style=ProgressStyle(descriptio…"
      ]
     },
     "metadata": {},
     "output_type": "display_data"
    },
    {
     "name": "stderr",
     "output_type": "stream",
     "text": [
      "\n",
      "\n",
      "\n",
      "Epoch:  25%|██▌       | 5/20 [23:17<1:09:50, 279.34s/it]\u001b[A\u001b[A\u001b[A"
     ]
    },
    {
     "name": "stdout",
     "output_type": "stream",
     "text": [
      "\n",
      "Loss history: [0.23329125689687552, 0.17894791580598662, 0.17482026204190873, 0.20566614400767894]\n",
      "Dev loss: 0.1897273830189887\n"
     ]
    },
    {
     "data": {
      "application/vnd.jupyter.widget-view+json": {
       "model_id": "104f46aba56f4a6c9d9bd37638b32747",
       "version_major": 2,
       "version_minor": 0
      },
      "text/plain": [
       "HBox(children=(IntProgress(value=0, description='Training iteration', max=2466, style=ProgressStyle(descriptio…"
      ]
     },
     "metadata": {},
     "output_type": "display_data"
    },
    {
     "name": "stdout",
     "output_type": "stream",
     "text": [
      "\n"
     ]
    },
    {
     "data": {
      "application/vnd.jupyter.widget-view+json": {
       "model_id": "f5e813d1482645b5bbcc9e13fd5964aa",
       "version_major": 2,
       "version_minor": 0
      },
      "text/plain": [
       "HBox(children=(IntProgress(value=0, description='Evaluation iteration', max=54, style=ProgressStyle(descriptio…"
      ]
     },
     "metadata": {},
     "output_type": "display_data"
    },
    {
     "name": "stderr",
     "output_type": "stream",
     "text": [
      "\n",
      "\n",
      "\n",
      "Epoch:  30%|███       | 6/20 [27:55<1:05:06, 279.01s/it]\u001b[A\u001b[A\u001b[A"
     ]
    },
    {
     "name": "stdout",
     "output_type": "stream",
     "text": [
      "\n",
      "Loss history: [0.23329125689687552, 0.17894791580598662, 0.17482026204190873, 0.20566614400767894, 0.1897273830189887]\n",
      "Dev loss: 0.20088162927681374\n"
     ]
    },
    {
     "data": {
      "application/vnd.jupyter.widget-view+json": {
       "model_id": "eb2b776a26cd4601846c1ba747376ce9",
       "version_major": 2,
       "version_minor": 0
      },
      "text/plain": [
       "HBox(children=(IntProgress(value=0, description='Training iteration', max=2466, style=ProgressStyle(descriptio…"
      ]
     },
     "metadata": {},
     "output_type": "display_data"
    },
    {
     "name": "stdout",
     "output_type": "stream",
     "text": [
      "\n"
     ]
    },
    {
     "data": {
      "application/vnd.jupyter.widget-view+json": {
       "model_id": "99df4e7cb85f422db5cb4c4e0b0cc3c9",
       "version_major": 2,
       "version_minor": 0
      },
      "text/plain": [
       "HBox(children=(IntProgress(value=0, description='Evaluation iteration', max=54, style=ProgressStyle(descriptio…"
      ]
     },
     "metadata": {},
     "output_type": "display_data"
    },
    {
     "name": "stderr",
     "output_type": "stream",
     "text": [
      "\n",
      "\n",
      "\n",
      "Epoch:  35%|███▌      | 7/20 [32:34<1:00:24, 278.84s/it]\u001b[A\u001b[A\u001b[A"
     ]
    },
    {
     "name": "stdout",
     "output_type": "stream",
     "text": [
      "\n",
      "Loss history: [0.23329125689687552, 0.17894791580598662, 0.17482026204190873, 0.20566614400767894, 0.1897273830189887, 0.20088162927681374]\n",
      "Dev loss: 0.240225103545796\n"
     ]
    },
    {
     "data": {
      "application/vnd.jupyter.widget-view+json": {
       "model_id": "20b5cbd60dd24f69a7569e40a2a9de9b",
       "version_major": 2,
       "version_minor": 0
      },
      "text/plain": [
       "HBox(children=(IntProgress(value=0, description='Training iteration', max=2466, style=ProgressStyle(descriptio…"
      ]
     },
     "metadata": {},
     "output_type": "display_data"
    },
    {
     "name": "stdout",
     "output_type": "stream",
     "text": [
      "\n"
     ]
    },
    {
     "data": {
      "application/vnd.jupyter.widget-view+json": {
       "model_id": "b03bf7295f3f46d69627070e894e7b24",
       "version_major": 2,
       "version_minor": 0
      },
      "text/plain": [
       "HBox(children=(IntProgress(value=0, description='Evaluation iteration', max=54, style=ProgressStyle(descriptio…"
      ]
     },
     "metadata": {},
     "output_type": "display_data"
    },
    {
     "name": "stdout",
     "output_type": "stream",
     "text": [
      "\n",
      "Loss history: [0.23329125689687552, 0.17894791580598662, 0.17482026204190873, 0.20566614400767894, 0.1897273830189887, 0.20088162927681374, 0.240225103545796]\n",
      "Dev loss: 0.24361922593649338\n",
      "No improvement on development set. Finish training.\n",
      "Loading model from /tmp/model.bin\n"
     ]
    },
    {
     "name": "stderr",
     "output_type": "stream",
     "text": [
      "I1108 14:37:57.471852 139696871913280 configuration_utils.py:151] loading configuration file https://s3.amazonaws.com/models.huggingface.co/bert/bert-large-uncased-config.json from cache at /home/yves/.cache/torch/transformers/6dfaed860471b03ab5b9acb6153bea82b6632fb9bbe514d3fff050fe1319ee6d.4c88e2dec8f8b017f319f6db2b157fee632c0860d9422e4851bd0d6999f9ce38\n",
      "I1108 14:37:57.473618 139696871913280 configuration_utils.py:168] Model config {\n",
      "  \"attention_probs_dropout_prob\": 0.1,\n",
      "  \"finetuning_task\": null,\n",
      "  \"hidden_act\": \"gelu\",\n",
      "  \"hidden_dropout_prob\": 0.1,\n",
      "  \"hidden_size\": 1024,\n",
      "  \"initializer_range\": 0.02,\n",
      "  \"intermediate_size\": 4096,\n",
      "  \"layer_norm_eps\": 1e-12,\n",
      "  \"max_position_embeddings\": 512,\n",
      "  \"num_attention_heads\": 16,\n",
      "  \"num_hidden_layers\": 24,\n",
      "  \"num_labels\": 7,\n",
      "  \"output_attentions\": false,\n",
      "  \"output_hidden_states\": false,\n",
      "  \"output_past\": true,\n",
      "  \"pruned_heads\": {},\n",
      "  \"torchscript\": false,\n",
      "  \"type_vocab_size\": 2,\n",
      "  \"use_bfloat16\": false,\n",
      "  \"vocab_size\": 30522\n",
      "}\n",
      "\n",
      "I1108 14:37:57.987270 139696871913280 modeling_utils.py:337] loading weights file https://s3.amazonaws.com/models.huggingface.co/bert/bert-large-uncased-pytorch_model.bin from cache at /home/yves/.cache/torch/transformers/54da47087cc86ce75324e4dc9bbb5f66c6e83a7c6bd23baea8b489acc8d09aa4.4d5343a4b979c4beeaadef17a0453d1bb183dd9b084f58b84c7cc781df343ae6\n"
     ]
    },
    {
     "data": {
      "application/vnd.jupyter.widget-view+json": {
       "model_id": "ab1e51d70d6a420db839adc8d9bfeccc",
       "version_major": 2,
       "version_minor": 0
      },
      "text/plain": [
       "HBox(children=(IntProgress(value=0, description='Evaluation iteration', max=80, style=ProgressStyle(descriptio…"
      ]
     },
     "metadata": {},
     "output_type": "display_data"
    },
    {
     "name": "stdout",
     "output_type": "stream",
     "text": [
      "\n"
     ]
    }
   ],
   "source": [
    "import torch\n",
    "\n",
    "from quillnlp.models.bert.train import train, evaluate\n",
    "from quillnlp.models.bert.models import get_multilabel_bert_classifier\n",
    "\n",
    "from quillnlp.models.bert.preprocessing import get_data_loader\n",
    "from sklearn.model_selection import KFold\n",
    "\n",
    "kf = KFold(n_splits=5, shuffle=True, random_state=1)\n",
    "all_correct, all_predicted = [], []\n",
    "all_test_data = []\n",
    "for train_idx, test_idx in kf.split(data_items):\n",
    "\n",
    "    train_and_dev_data = data_items[train_idx]\n",
    "    cutoff = int(len(train_and_dev_data)/6*5)\n",
    "    train_data = train_and_dev_data[:cutoff]\n",
    "    dev_data = train_and_dev_data[cutoff:]\n",
    "    test_data = data_items[test_idx]\n",
    "    \n",
    "    print(\"Train size:\", len(train_data))\n",
    "    \n",
    "    synth_data = []\n",
    "    for item in train_data:\n",
    "        synth_data.extend(synth_map.get(item.text, []))\n",
    "                \n",
    "    train_dataloader = get_data_loader(np.concatenate((train_data, synth_data)), BATCH_SIZE)\n",
    "    dev_dataloader = get_data_loader(dev_data, BATCH_SIZE)\n",
    "    test_dataloader = get_data_loader(test_data, BATCH_SIZE, shuffle=False)\n",
    "\n",
    "    print(\"Final train dataloader length:\", len(train_dataloader))\n",
    "    \n",
    "    device = \"cuda\" if torch.cuda.is_available() else \"cpu\"\n",
    "    model = get_multilabel_bert_classifier(BERT_MODEL, len(label2idx), device=device)\n",
    "    output_model_file = train(model, train_dataloader, dev_dataloader, BATCH_SIZE, GRADIENT_ACCUMULATION_STEPS, device)\n",
    "    \n",
    "    print(\"Loading model from\", output_model_file)\n",
    "    device=\"cpu\"\n",
    "\n",
    "    model = get_multilabel_bert_classifier(BERT_MODEL, len(label2idx), model_file=output_model_file, device=device)\n",
    "    model.eval()\n",
    "    \n",
    "    _, _, test_correct, test_predicted = evaluate(model, test_dataloader, device)\n",
    "    all_correct.extend(test_correct)\n",
    "    all_predicted.extend(test_predicted)\n",
    "    all_test_data.extend(test_data)"
   ]
  },
  {
   "cell_type": "markdown",
   "metadata": {},
   "source": [
    "## Evaluation"
   ]
  },
  {
   "cell_type": "code",
   "execution_count": 5,
   "metadata": {},
   "outputs": [
    {
     "name": "stdout",
     "output_type": "stream",
     "text": [
      "Data size: 798\n",
      "P: 802 / 968 = 0.8285123966942148\n",
      "R: 802 / 966 = 0.8302277432712215\n",
      "F: 0.8293691830403308\n",
      "A: 0.7393483709273183\n",
      "AL1: 0.8784461152882206\n"
     ]
    }
   ],
   "source": [
    "correct = 0\n",
    "at_least_one = 0\n",
    "fp, fn, tp, tn = 0, 0, 0, 0\n",
    "for c, p in zip(all_correct, all_predicted):\n",
    "    if sum(c == p) == len(c):\n",
    "        correct +=1\n",
    "    \n",
    "    for ci, pi in zip(c, p):\n",
    "        if pi == 1 and ci == 1:\n",
    "            at_least_one += 1\n",
    "            break\n",
    "    \n",
    "    for ci, pi in zip(c, p):\n",
    "        if pi == 1 and ci == 1:\n",
    "            tp += 1\n",
    "            same = 1\n",
    "        elif pi == 1 and ci == 0:\n",
    "            fp += 1\n",
    "        elif pi == 0 and ci == 1:\n",
    "            fn += 1\n",
    "        else:\n",
    "            tn += 1\n",
    "            same =1\n",
    "            \n",
    "precision = tp/(tp+fp)\n",
    "recall = tp/(tp+fn)\n",
    "print(\"Data size:\", len(all_predicted))\n",
    "print(\"P:\", tp, \"/\", tp+fp, \"=\", precision)\n",
    "print(\"R:\", tp, \"/\", tp+fn, \"=\", recall)\n",
    "print(\"F:\", 2*precision*recall/(precision+recall))\n",
    "print(\"A:\", correct/len(all_correct))\n",
    "print(\"AL1:\", at_least_one/len(all_correct))"
   ]
  },
  {
   "cell_type": "code",
   "execution_count": 6,
   "metadata": {},
   "outputs": [
    {
     "name": "stdout",
     "output_type": "stream",
     "text": [
      "Governments should make voting compulsory so we vote the correct person.#Leaders#Leaders\n",
      "Governments should make voting compulsory so we should vote compulsory.#Miscellaneous#Miscellaneous\n",
      "Governments should make voting compulsory so we can ensure we achieve the outcome we want as a society.#Miscellaneous#Miscellaneous\n",
      "Governments should make voting compulsory so we are quick to make a decision.#Miscellaneous#Miscellaneous\n",
      "Governments should make voting compulsory so voting say that it is a violation of personal liberties and choices.#Miscellaneous#Miscellaneous\n",
      "Governments should make voting compulsory so voter turnout is mandatory#Miscellaneous#Increased Voting\n",
      "Governments should make voting compulsory so voter participation will increase and the majority of the population will be represented in the outcome of a political election.#More Representative;Leaders#More Representative;Increased Voting\n",
      "Governments should make voting compulsory so to encourage voters participation#Increased Voting#Increased Voting\n",
      "Governments should make voting compulsory so to encourage voter participation#Increased Voting#Increased Voting\n",
      "Governments should make voting compulsory so those who cant make it to vote or do not want to will not be punished.#Miscellaneous#Miscellaneous\n",
      "Governments should make voting compulsory so they can survive to live another day.#Miscellaneous#Miscellaneous\n",
      "Governments should make voting compulsory so they can show they do not respect the freedom to say no#Miscellaneous#Miscellaneous\n",
      "Governments should make voting compulsory so they can know truly what the people want.#More Representative#More Representative\n",
      "Governments should make voting compulsory so they can have everyone logged in the system, There would be no illegals if every single person needed to vote.#Miscellaneous#Miscellaneous\n",
      "Governments should make voting compulsory so they can get an actual tally on all eligible voters and on their feelings in the actual political landscape.#More Representative#More Representative\n",
      "Governments should make voting compulsory so they can combat issues of voter apathy which cause low voter turnouts and make government less representative of the people.#More Representative;Apathy;Increased Voting#More Representative;Increased Voting\n",
      "Governments should make voting compulsory so there's more overall involvement and the whole process.#Increased Voting#More Representative;Increased Voting\n",
      "Governments should make voting compulsory so there will be a higher turn out.#Increased Voting#Increased Voting\n",
      "Governments should make voting compulsory so there is better participation in the elections#Increased Voting#Increased Voting\n",
      "Governments should make voting compulsory so there is a more accurate representation of the population.#More Representative#More Representative\n",
      "Governments should make voting compulsory so there is a more \"true\" election.#Miscellaneous#Miscellaneous\n",
      "Governments should make voting compulsory so the will of the people is properly represented.#More Representative#More Representative\n",
      "Governments should make voting compulsory so the vote count stays at a fairly high level.#Increased Voting#Increased Voting\n",
      "Governments should make voting compulsory so the voice of ALL the people are heard.#More Representative#More Representative\n",
      "Governments should make voting compulsory so the true will of the people is represented.#More Representative#More Representative\n",
      "Governments should make voting compulsory so the true choice of the people who are voting is made.#Miscellaneous#More Representative\n",
      "Governments should make voting compulsory so the result is not biased.#Miscellaneous#More Representative\n",
      "Governments should make voting compulsory so the politicians that are elected represent the majority of the people and what they are looking for in a leader.#More Representative;Leaders#More Representative;Leaders\n",
      "Governments should make voting compulsory so the maximum number of citizens participate in governmental elections.#Increased Voting#Increased Voting\n",
      "Governments should make voting compulsory so the maximum number of citizens have their voices heard by their government.#More Representative#More Representative\n",
      "Governments should make voting compulsory so the job gets done.#Miscellaneous#Miscellaneous\n",
      "Governments should make voting compulsory so the government is accurately represented by the population.#More Representative#More Representative\n",
      "Governments should make voting compulsory so the elected government represents the majority of the population.#More Representative#More Representative\n",
      "Governments should make voting compulsory so the country can have true representation of the people.#More Representative#More Representative\n",
      "Governments should make voting compulsory so the citizens have a true voice in their leadership.#More Representative;Leaders#More Representative;Leaders\n",
      "Governments should make voting compulsory so that whoever is elected is the representation of the true majority of the population.#More Representative#More Representative\n",
      "Governments should make voting compulsory so that we can have greater voter participation and elect the best president/leaders.#Leaders;Increased Voting#Leaders;Increased Voting\n",
      "Governments should make voting compulsory so that we can have a fair election.#Miscellaneous#Miscellaneous\n",
      "Governments should make voting compulsory so that way you get a 100% turn out by the voters.#Increased Voting#More Representative;Increased Voting\n",
      "Governments should make voting compulsory so that voter participation will be encouraged.#Increased Voting#Increased Voting\n",
      "Governments should make voting compulsory so that voter apathy does not allow people to complain after the election that the winner was not chosen by the majority.#Miscellaneous#More Representative\n",
      "Governments should make voting compulsory so that true democracy exists in countries where voters are allowed to vote; if citizens don't vote their political desires can't be represented.#More Representative#More Representative;Miscellaneous\n",
      "Governments should make voting compulsory so that they can learn the needs of the majority and truly support their country.#More Representative;Leaders#More Representative\n",
      "Governments should make voting compulsory so that they are actually representing the majority of the population.#More Representative#More Representative\n",
      "Governments should make voting compulsory so that there is larger voter turnout and a more accurate representation of what the population wants.#More Representative;Increased Voting#More Representative;Increased Voting\n",
      "Governments should make voting compulsory so that there is greater participation by the citizens in electing their representatives.#Increased Voting#More Representative;Increased Voting\n",
      "Governments should make voting compulsory so that there is a much higher turnout at polls.#Increased Voting#Increased Voting\n",
      "Governments should make voting compulsory so that there is a higher voter turnout.#Increased Voting#Increased Voting\n",
      "Governments should make voting compulsory so that the wrong people do not vote and make the voting unfair#Miscellaneous#Miscellaneous\n",
      "Governments should make voting compulsory so that the will of the people is reflected in elections.#More Representative#More Representative\n",
      "Governments should make voting compulsory so that the votes actually reflect and account for the entire community, not just a select few.#More Representative#More Representative\n",
      "Governments should make voting compulsory so that the true will of the people can be acted on.#More Representative#More Representative\n",
      "Governments should make voting compulsory so that the results of the elections properly convey the will of all the people.#More Representative#More Representative\n",
      "Governments should make voting compulsory so That the population is better represented in the laws are more in line with what people want#Miscellaneous#More Representative\n",
      "Governments should make voting compulsory so that the people have a better opportunity for choosing the right candidate for their country.#More Representative;Leaders#Leaders\n",
      "Governments should make voting compulsory so that the number of people that vote on elections goes up.#Increased Voting#Increased Voting\n",
      "Governments should make voting compulsory so that the majority of the population is represented in the vote.#More Representative#More Representative\n",
      "Governments should make voting compulsory so that the government reflects the majority of the population.#More Representative#More Representative\n",
      "Governments should make voting compulsory so that the governing bodies reflect the will of the people and act as representatives of society's current needs and desires.#More Representative#More Representative\n",
      "Governments should make voting compulsory so that the entire population may be heard, for good or for bad.#More Representative#More Representative\n",
      "Governments should make voting compulsory so that the elected officials represent the majority of the population.#More Representative;Leaders#More Representative;Leaders\n",
      "Governments should make voting compulsory so that the elected government represents the majority of the population,#More Representative#More Representative\n",
      "Governments should make voting compulsory so that the best person gets the job.#Leaders#Leaders\n",
      "Governments should make voting compulsory so that people can put the candidate in office that they choose.#More Representative#More Representative;Leaders\n",
      "Governments should make voting compulsory so that people are not forced to give inaccurate and misrepresented data.#Miscellaneous#Miscellaneous\n",
      "Governments should make voting compulsory so that participation and involvement are encouraged and increased.#Increased Voting#Increased Voting\n",
      "Governments should make voting compulsory so that nations do not suffer loss of voter participation such as that seen in Venezuela.#Increased Voting#Increased Voting\n",
      "Governments should make voting compulsory so that more people vote in 2020 than they did in the 2012 US Presidential election#Increased Voting#Increased Voting\n",
      "Governments should make voting compulsory so that more people turn up to vote.#Increased Voting#Increased Voting\n",
      "Governments should make voting compulsory so that more people can participate#Increased Voting#Increased Voting\n",
      "Governments should make voting compulsory so that more of the population will vote and their voices will be heard.#More Representative;Increased Voting#More Representative;Increased Voting\n",
      "Governments should make voting compulsory so that low voter turnout is avoided.#Increased Voting#Increased Voting\n",
      "Governments should make voting compulsory so that it is ensured that all citizens' wishes are represented.#More Representative#More Representative\n",
      "Governments should make voting compulsory so that it ensures that the majority of the population is represented.#More Representative#More Representative\n",
      "Governments should make voting compulsory so that government by the people overrides government by whoever has the most power.#Miscellaneous#More Representative\n",
      "Governments should make voting compulsory so that everyone's vote influences the election.#More Representative#More Representative\n",
      "Governments should make voting compulsory so that everyone votes which makes the election fair.#Miscellaneous;Increased Voting#Increased Voting\n",
      "Governments should make voting compulsory so that everyone has an equal chance to vote#Miscellaneous#Miscellaneous\n",
      "Governments should make voting compulsory so that everyone has a say in how the country is run.#More Representative#More Representative;Leaders\n",
      "Governments should make voting compulsory so that everyone gets a fair chance to pick who they think would fit best to leader the country.#More Representative;Leaders#More Representative;Leaders\n",
      "Governments should make voting compulsory so that everyone can perform their civic duty.#Civic Duty#Increased Voting;Civic Duty\n",
      "Governments should make voting compulsory so that everyone can express their opinion and the results of the election will be more accurate.#More Representative#More Representative\n",
      "Governments should make voting compulsory so that everybody completes their civic duty.#Increased Voting;Civic Duty#Increased Voting;Civic Duty\n",
      "Governments should make voting compulsory so that every person in the country has voted.#Increased Voting#Increased Voting\n",
      "Governments should make voting compulsory so that every person can make their own decision as to whether they want to vote or not.#Miscellaneous#\n",
      "Governments should make voting compulsory so that every person becomes more involved in voting and we have a more fair outcome to elections that TRULY represent the people.#More Representative;Increased Voting#More Representative;Increased Voting\n",
      "Governments should make voting compulsory so that every citizen has a chance to vote.#Miscellaneous#Increased Voting\n",
      "Governments should make voting compulsory so that every citizen feels responsible to vote and would honestly make their decision in casting their votes.#Increased Voting#Miscellaneous;Increased Voting\n",
      "Governments should make voting compulsory so that every citizen can have their will reflected in the laws that pass and the politicians who get elected.#More Representative;Leaders#More Representative;Leaders\n",
      "Governments should make voting compulsory so that elected leaders are actually who the majority of the country wants in power.#Leaders#More Representative;Leaders\n",
      "Governments should make voting compulsory so that each person's vote can be heard.#More Representative#More Representative\n",
      "Governments should make voting compulsory so that corrupt politicians can be eliminated from office.#Miscellaneous#Miscellaneous\n",
      "Governments should make voting compulsory so that citizens have more incentive to educate themselves in the world of politics.#Miscellaneous#Miscellaneous\n",
      "Governments should make voting compulsory so that apathetic people start to care about elections#Apathy#Miscellaneous\n",
      "Governments should make voting compulsory so that apathetic citizens start to care about elections#Apathy#Miscellaneous\n",
      "Governments should make voting compulsory so that all voices are heard and so elections are better represented by the people.#More Representative#More Representative\n",
      "Governments should make voting compulsory so that all the citizens have a say in who is elected.#More Representative;Leaders#More Representative;Leaders\n",
      "Governments should make voting compulsory so that all people vote and are represented by their government.#More Representative;Increased Voting#More Representative;Increased Voting\n",
      "Governments should make voting compulsory so that all people as equal have equal input equally, the focus should be more on \"get to \" rather than \"have\"to.#Miscellaneous#More Representative\n",
      "Governments should make voting compulsory so that all of American is voting and not just a few#Increased Voting#More Representative;Increased Voting\n",
      "Governments should make voting compulsory so that a true majority will be elected.#Miscellaneous#More Representative\n",
      "Governments should make voting compulsory so that a majority of the population will vote and have representation on Election Day.#More Representative;Increased Voting#More Representative;Increased Voting\n",
      "Governments should make voting compulsory so that a bigger turnout would show proper numbers to represent our actual votes.#Increased Voting#More Representative;Increased Voting\n",
      "Governments should make voting compulsory so results are a better representation of the population as a whole.#More Representative#More Representative\n",
      "Governments should make voting compulsory so people will see voting as a civic duty and government leaders will become more representative of the people.#More Representative;Civic Duty#More Representative;Leaders;Increased Voting\n",
      "Governments should make voting compulsory so people will exercise their civic responsibility.#Civic Duty#Civic Duty\n",
      "Governments should make voting compulsory so people have a say in how the goverment is run.#More Representative#More Representative;Leaders\n",
      "Governments should make voting compulsory so people get an opportunity as it is a civil right.#Miscellaneous#Miscellaneous\n",
      "Governments should make voting compulsory so people can contribute to politics and fulfill their civic duty.#Increased Voting;Civic Duty#Increased Voting;Civic Duty\n",
      "Governments should make voting compulsory so people actually feel as though their votes count and actually means something.#Miscellaneous;Feels Represented#Miscellaneous\n",
      "Governments should make voting compulsory so only our rules will become good#Miscellaneous#Miscellaneous\n",
      "Governments should make voting compulsory so new voters such as young adults can see that their vote makes a difference in the world and that they matter in the elections.#Miscellaneous#Miscellaneous\n",
      "Governments should make voting compulsory so Most democratic governments consider participating in national elections a right.#Miscellaneous#Miscellaneous\n",
      "Governments should make voting compulsory so more people will be involved in the government.#More Representative#Increased Voting\n",
      "Governments should make voting compulsory so more people vote in office elections than for television contests.#Increased Voting#Increased Voting\n",
      "Governments should make voting compulsory so more people vote but im against the punishment side of it.#Miscellaneous;Increased Voting#Miscellaneous\n",
      "Governments should make voting compulsory so more people get to voice their opinions at the polls.#Increased Voting#More Representative\n",
      "Governments should make voting compulsory so more people can exercise who they really want in office.#Miscellaneous#More Representative;Leaders\n",
      "Governments should make voting compulsory so more of the citizens turn out to elections creating a more representative election and engagement in the political process.#More Representative;Increased Voting#More Representative;Increased Voting\n",
      "Governments should make voting compulsory so many people are involved in the voting system because the citizen have a right to have his or her voice.#Miscellaneous#Increased Voting\n",
      "Governments should make voting compulsory so mail in ballots will provide an easy way to enact that.#Miscellaneous#Miscellaneous\n",
      "Governments should make voting compulsory so low voter turnout is avoided.#Increased Voting#Increased Voting\n",
      "Governments should make voting compulsory so it will give the elections a broader answer and spectrum of what side the people are on.#Miscellaneous#More Representative\n",
      "Governments should make voting compulsory so it is a civic right not duty.#Miscellaneous#Miscellaneous\n",
      "Governments should make voting compulsory so it helps them#Miscellaneous#Miscellaneous\n",
      "Governments should make voting compulsory so it ensures the elected government represents the majority of the population.#More Representative#More Representative\n",
      "Governments should make voting compulsory so it can be the civic duty.#Civic Duty#Civic Duty\n",
      "Governments should make voting compulsory so it can be seen as a civic right and not a civic duty.#Miscellaneous#Miscellaneous\n",
      "Governments should make voting compulsory so higher voter turnout can increase confidence in the representation of the majority by our elected officials.#More Representative;Leaders;Increased Voting#More Representative;Leaders\n",
      "Governments should make voting compulsory so he was like to him#Miscellaneous#Miscellaneous\n",
      "Governments should make voting compulsory so governments will be representative.#More Representative#More Representative\n",
      "Governments should make voting compulsory so everyone's voice is heard.#More Representative#More Representative\n",
      "Governments should make voting compulsory so everyone's voice can be heard.#More Representative#More Representative\n",
      "Governments should make voting compulsory so everyone's opinion is tallied.#Miscellaneous#More Representative\n",
      "Governments should make voting compulsory so everyone will vote.#Increased Voting#Increased Voting\n",
      "Governments should make voting compulsory so everyone votes and everyone has a say in their government.#More Representative;Increased Voting#More Representative;Increased Voting\n",
      "Governments should make voting compulsory so everyone participates.#Increased Voting#Increased Voting\n",
      "Governments should make voting compulsory so everyone in the country has a voice.#More Representative#More Representative\n",
      "Governments should make voting compulsory so everyone has a stake in the process#More Representative#More Representative\n",
      "Governments should make voting compulsory so everyone can make their vote count.#Miscellaneous#More Representative\n",
      "Governments should make voting compulsory so every vote is counted#More Representative#More Representative\n",
      "Governments should make voting compulsory so every person has an active role in choosing leaders.#Leaders#More Representative;Leaders;Increased Voting\n",
      "Governments should make voting compulsory so every one votes#Increased Voting#Miscellaneous\n",
      "Governments should make voting compulsory so every has to cast their vote.#Increased Voting#Increased Voting\n",
      "Governments should make voting compulsory so every citizen will understand their responsibility and the value of democracy#Civic Duty#Miscellaneous\n",
      "Governments should make voting compulsory so every citizen exercises its responsibility and duty.#Increased Voting;Civic Duty#Civic Duty\n",
      "Governments should make voting compulsory so elections will be more legitimate by encouraging high voter turnout.#Increased Voting#Increased Voting\n",
      "Governments should make voting compulsory so elected governments are representative of the majority of the population.#More Representative#More Representative\n",
      "Governments should make voting compulsory so elected government represents the majority.#More Representative#More Representative\n",
      "Governments should make voting compulsory so each citizen gets a fair say in electing government officials.#More Representative#More Representative;Leaders\n",
      "Governments should make voting compulsory so develop awareness#Miscellaneous#Miscellaneous\n",
      "Governments should make voting compulsory so citizens will have to vote and will vote in high numbers/percentages.#Increased Voting#Increased Voting\n",
      "Governments should make voting compulsory so citizens will become involved with participating in government and be more knowledgeable about their civic duty.#More Representative;Civic Duty#Increased Voting;Civic Duty\n",
      "Governments should make voting compulsory so as to increase voter participation.#Increased Voting#Increased Voting\n",
      "Governments should make voting compulsory so as to ensure good leadership#Leaders#More Representative;Leaders\n",
      "Governments should make voting compulsory so all of our need will be fulfilled by the candidate whom we think he is the right indeed.#Miscellaneous#More Representative;Leaders\n",
      "Governments should make voting compulsory so all citizens voice their choice of representation.#More Representative#More Representative\n",
      "Governments should make voting compulsory so all citizens participate#Increased Voting#Increased Voting\n",
      "Governments should make voting compulsory so all citizens can vote equally.#Miscellaneous#Increased Voting\n",
      "Governments should make voting compulsory so all citizens are involved in electing their leaders.#Leaders;Increased Voting#More Representative;Leaders;Increased Voting\n",
      "Governments should make voting compulsory so you have a truly participatory democracy where everyone's voice is heard.#More Representative#More Representative\n",
      "Governments should make voting compulsory so we vote the correct person#Leaders#Leaders\n",
      "Governments should make voting compulsory so we get a true measure of the people's choice.#More Representative#More Representative\n",
      "Governments should make voting compulsory so we can select the good leader#Leaders#Leaders\n",
      "Governments should make voting compulsory so we can get a more accurate vote as the majority will have submitted a vote.#More Representative#More Representative\n",
      "Governments should make voting compulsory so we can get a more accurate judgment of what people think of candidates.#More Representative;Leaders#More Representative\n",
      "Governments should make voting compulsory so we can be sure that all sides have been represented in the election results.#More Representative#More Representative\n",
      "Governments should make voting compulsory so VOTES CAN BE COLLECTED MORE#Miscellaneous#Miscellaneous\n",
      "Governments should make voting compulsory so voters participate.#Increased Voting#Increased Voting\n",
      "Governments should make voting compulsory so voters can feel like their voice matters.#Feels Represented#Miscellaneous\n",
      "Governments should make voting compulsory so voter turnout is much higher.#Increased Voting#Increased Voting\n",
      "Governments should make voting compulsory so voter turn out improves.#Increased Voting#Increased Voting\n",
      "Governments should make voting compulsory so very impartent#Miscellaneous#Miscellaneous\n",
      "Governments should make voting compulsory so they include all the citizens.#Miscellaneous#More Representative\n",
      "Governments should make voting compulsory so they can get a true count of the number of people that vote#Miscellaneous#More Representative;Increased Voting\n",
      "Governments should make voting compulsory so they a bigger voter pool for a better election.#Increased Voting#Increased Voting\n",
      "Governments should make voting compulsory so therefore should also make civics mandatory learning in schools.#Miscellaneous#Miscellaneous\n",
      "Governments should make voting compulsory so there should be policies either in place to enforce compulsory voting or governments should create policies to transition to compulsory voting.#Miscellaneous#Miscellaneous\n",
      "Governments should make voting compulsory so there needs to be some negative consequence for not voting to encourage voters to participate.#Miscellaneous#Miscellaneous;Increased Voting\n",
      "Governments should make voting compulsory so there is higher voter turnout in the elections.#Increased Voting#Increased Voting\n",
      "Governments should make voting compulsory so there is a stronger presence of political awareness and knowledge throughout the country.#Miscellaneous#Miscellaneous\n",
      "Governments should make voting compulsory so then all citizens would be responsible for election results.#Miscellaneous#More Representative\n",
      "Governments should make voting compulsory so their democracy has a representative government.#More Representative#More Representative\n",
      "Governments should make voting compulsory so the will of the country's population is directly involved in shaping the government and direction it needs.#More Representative#More Representative\n",
      "Governments should make voting compulsory so the will of everyone can be represented.#More Representative#More Representative\n",
      "Governments should make voting compulsory so the voters would not feel to apathetic about politics and actually get involved in what's going on.#Miscellaneous;Apathy#Apathy;Increased Voting\n",
      "Governments should make voting compulsory so the voter turnout raises.#Increased Voting#Increased Voting\n",
      "Governments should make voting compulsory so the voice of the people is heard in a more complete manner.#More Representative#More Representative\n",
      "Governments should make voting compulsory so the turnout is better and can more accurately elect representatives in public offices.#Leaders;Increased Voting#Increased Voting\n",
      "Governments should make voting compulsory so the right person can be elected all the time.#Leaders#Leaders\n",
      "Governments should make voting compulsory so the results will present a more accurate portrait of the electorate.#More Representative#More Representative\n",
      "Governments should make voting compulsory so the population will have a say in who wins.#More Representative#More Representative;Leaders\n",
      "Governments should make voting compulsory so the polls increase.#Increased Voting#Increased Voting\n",
      "Governments should make voting compulsory so the person who is elected is representative of the majority of the citizens of that country.#More Representative;Leaders#More Representative;Leaders\n",
      "Governments should make voting compulsory so the person elected is truly elected by the majority of citizens.#More Representative;Leaders#More Representative;Leaders\n",
      "Governments should make voting compulsory so the outcome of the election reflects the voters' will.#More Representative#More Representative\n",
      "Governments should make voting compulsory so the majority of the voting public is represented.#More Representative#More Representative\n",
      "Governments should make voting compulsory so the majority of citizens have a say in who runs their governments.#More Representative;Leaders#More Representative\n",
      "Governments should make voting compulsory so the majority gets what they want.#More Representative#More Representative\n",
      "Governments should make voting compulsory so the elections reflect that the elected government represents all or most of their citizens.#More Representative#More Representative\n",
      "Governments should make voting compulsory so the election will be a true democracy.#Miscellaneous#Miscellaneous\n",
      "Governments should make voting compulsory so the election process can ultimately be as fair and comprehensive as possible.#Miscellaneous#Miscellaneous\n",
      "Governments should make voting compulsory so the elected represents the majority of the people#More Representative;Leaders#More Representative;Leaders\n",
      "Governments should make voting compulsory so the elected official more accurately reflects the choice of the entire populace.#More Representative;Leaders#More Representative;Leaders\n",
      "Governments should make voting compulsory so the elected government represents the majority.#More Representative#More Representative\n",
      "Governments should make voting compulsory so the elected government really is representing the true majority of the population, and not just those interested enough in politics to go vote.#More Representative#More Representative\n",
      "Governments should make voting compulsory so the elected government officials represent the population better.#More Representative#More Representative;Leaders\n",
      "Governments should make voting compulsory so the elected government is really representative of what the majority of citizens want.#More Representative#More Representative\n",
      "Governments should make voting compulsory so the country has a president whom all the citizens want.#More Representative;Leaders#More Representative;Leaders\n",
      "Governments should make voting compulsory so the candidate elected is a good representation of the people.#More Representative;Leaders#More Representative;Leaders\n",
      "Governments should make voting compulsory so that we have representative democracies.#More Representative#More Representative\n",
      "Governments should make voting compulsory so that we get a true idea of what the people of the country want with how their votes fall.#More Representative#More Representative\n",
      "Governments should make voting compulsory so that we all have to make sure that our government is taking care of us and not htat we are just letting then run rampant#Miscellaneous#Miscellaneous\n",
      "Governments should make voting compulsory so that voter turnout is higher and that the government represents a true majority of the population.#More Representative;Increased Voting#More Representative;Increased Voting\n",
      "Governments should make voting compulsory so that voter turnout increases.#Increased Voting#Increased Voting\n",
      "Governments should make voting compulsory so that those elected are representing the will of the people.#More Representative;Leaders#More Representative;Leaders\n",
      "Governments should make voting compulsory so that there is a large turnout.#Increased Voting#Increased Voting\n",
      "Governments should make voting compulsory so that the will of the people can more accurately be represented.#More Representative#More Representative\n",
      "Governments should make voting compulsory so that the vast majority can vote#Miscellaneous#More Representative;Increased Voting\n",
      "Governments should make voting compulsory so that the results of the election are a true reflection of the majority ofpeopl r not just a few#More Representative#More Representative\n",
      "Governments should make voting compulsory so that the people can voice their opinion.#More Representative#\n",
      "Governments should make voting compulsory so that the majority of the population is represented.#More Representative#More Representative\n",
      "Governments should make voting compulsory so that the majority of people will vote, making sure the will of the people is heard.#More Representative;Increased Voting#More Representative;Increased Voting\n",
      "Governments should make voting compulsory so that the largest percentage of the public will vote and choose the officials they most want to be leading the country.#Leaders;Increased Voting#More Representative;Leaders;Increased Voting\n",
      "Governments should make voting compulsory so that the government could see who is qualified as a president#Miscellaneous;Leaders#Leaders\n",
      "Governments should make voting compulsory so that the entire population is properly represented.#More Representative#More Representative\n",
      "Governments should make voting compulsory so that the entire population can participate in shaping the country they live in.#Increased Voting#More Representative\n",
      "Governments should make voting compulsory so that the elected government represents the majority of the population.#More Representative#More Representative\n",
      "Governments should make voting compulsory so that the elected government officials represent a majority of the population and not just the segment that choose to vote.#More Representative#More Representative;Leaders\n",
      "Governments should make voting compulsory so that people understand their civic obligation and vote on election day#Increased Voting;Civic Duty#Civic Duty\n",
      "Governments should make voting compulsory so that people can have a chance at life.#Miscellaneous#Miscellaneous\n",
      "Governments should make voting compulsory so that our elected officials are true representatives of the entire population not just special interest groups.#More Representative;Leaders#More Representative;Leaders\n",
      "Governments should make voting compulsory so that more voices are represented in the political process.#More Representative#More Representative\n",
      "Governments should make voting compulsory so that more people will be able to be a voice in elections.#More Representative#More Representative;Increased Voting\n",
      "Governments should make voting compulsory so that more people can be represented by the elected official.#Miscellaneous#More Representative;Leaders\n",
      "Governments should make voting compulsory so that more of the country is required to vote instead of having options and values but not acting on them.#Miscellaneous;Increased Voting#Increased Voting\n",
      "Governments should make voting compulsory so that more citizens actually vote.#Increased Voting#Increased Voting\n",
      "Governments should make voting compulsory so that its citizens will become better educated in politics and give an accurate representation of the interests of the people.#More Representative;Miscellaneous#More Representative\n",
      "Governments should make voting compulsory so that it is certain that every citizen will cast a vote.#Increased Voting#Increased Voting\n",
      "Governments should make voting compulsory so that it is a fair election that represents all people of the land, which would discourage those political parties that use fear to dissuade dissenting voters.#More Representative;Miscellaneous#More Representative;Miscellaneous\n",
      "Governments should make voting compulsory so that he people understand that it is important for their contry.#Miscellaneous#Miscellaneous\n",
      "Governments should make voting compulsory so that governments are more representative of the populations they serve.#More Representative#More Representative\n",
      "Governments should make voting compulsory so that everyone's voice is heard.#More Representative#More Representative\n",
      "Governments should make voting compulsory so that everyone who votes can have a say in the election choice.#More Representative#More Representative;Increased Voting\n",
      "Governments should make voting compulsory so that everyone participates in the election and feels like their opinion was heard.#Increased Voting;Feels Represented#Increased Voting\n",
      "Governments should make voting compulsory so that everyone is fairly represented.#More Representative#More Representative\n",
      "Governments should make voting compulsory so that everyone is counted and the country has a deep understanding of its citizens.#More Representative;Leaders#More Representative\n",
      "Governments should make voting compulsory so that everyone has a good reason to become more actively involved in the political process.#Increased Voting#Increased Voting\n",
      "Governments should make voting compulsory so that everyone can have their vote count but allow those corrupting the system severe punishments.#More Representative;Miscellaneous#More Representative;Miscellaneous\n",
      "Governments should make voting compulsory so that everyone becomes more involved with the affairs of the nation#More Representative#\n",
      "Governments should make voting compulsory so that everybody's voice is heard.#More Representative#More Representative\n",
      "Governments should make voting compulsory so that every voter will have a say in who is elected or not.#More Representative#More Representative;Leaders\n",
      "Governments should make voting compulsory so that every voice is heard.#More Representative#More Representative\n",
      "Governments should make voting compulsory so that every person is represented.#More Representative#More Representative\n",
      "Governments should make voting compulsory so that every election is based on the popularity of the greatest amount of people#Miscellaneous#More Representative\n",
      "Governments should make voting compulsory so that every citizen can voice their opinion on who they want to govern them.#More Representative;Leaders#More Representative;Leaders\n",
      "Governments should make voting compulsory so that every citizen can help guide the politics in their country.#More Representative#\n",
      "Governments should make voting compulsory so that elections reflect the feelings of the population.#More Representative#More Representative\n",
      "Governments should make voting compulsory so that election results represent the greatest number of people.#More Representative#More Representative\n",
      "Governments should make voting compulsory so that elected officials will more closely resemble representatives of the people that vote them in#More Representative;Leaders#More Representative;Leaders\n",
      "Governments should make voting compulsory so that elected officials represent the majority of the population and what the citizens want.#More Representative;Leaders#More Representative;Leaders\n",
      "Governments should make voting compulsory so that citizens perform their civic duty.#Civic Duty#Civic Duty\n",
      "Governments should make voting compulsory so that citizens get more involved in politics and have more enthusiasm#Increased Voting#Increased Voting\n",
      "Governments should make voting compulsory so that as many people as possible have a say in how their government is run and by whom.#More Representative;Leaders#More Representative\n",
      "Governments should make voting compulsory so that all the people of the country are held accountable for who is chosen.#Miscellaneous#More Representative;Leaders\n",
      "Governments should make voting compulsory so that all eligible voters are required to vote.#Increased Voting#Increased Voting\n",
      "Governments should make voting compulsory so that all citizens have an opportunity to pick their elected leaders.#More Representative;Leaders#More Representative;Leaders\n",
      "Governments should make voting compulsory so Some people find it discouraging that voting for American Idol seems to generate more enthusiasm than voting in national elections.#Miscellaneous#Miscellaneous\n",
      "Governments should make voting compulsory so people take more interest in political elections and elected officials truly represent what the people choose.#More Representative;Leaders#More Representative;Leaders\n",
      "Governments should make voting compulsory so people know that they have a voice and a choice, choosing to vote over being forced to is a completely different perspective.#Miscellaneous#Miscellaneous\n",
      "Governments should make voting compulsory so people can participate in the election.#Increased Voting#Increased Voting\n",
      "Governments should make voting compulsory so people can feel that they have control over their choices and lives without being penalized.#Miscellaneous#Miscellaneous\n",
      "Governments should make voting compulsory so people become more aware of laws and how their government works and what their rights are as a citizen.#Miscellaneous#Miscellaneous\n",
      "Governments should make voting compulsory so nobody can say they didn’t have a chance to influence the election.#More Representative#Miscellaneous\n",
      "Governments should make voting compulsory so need population is very important#Miscellaneous#Miscellaneous\n",
      "Governments should make voting compulsory so most of the country is able to participate in the democracy.#Miscellaneous#Increased Voting\n",
      "Governments should make voting compulsory so more voices are heard and properly represented.#More Representative#More Representative\n",
      "Governments should make voting compulsory so more people would vote.#Increased Voting#Increased Voting\n",
      "Governments should make voting compulsory so more people pay attention to what's going on in the government, and can't play the 'poor me' helpless card.#Miscellaneous#Miscellaneous\n",
      "Governments should make voting compulsory so more people go to the polls to vote.#Increased Voting#Increased Voting\n",
      "Governments should make voting compulsory so more people can feel part of the process#Feels Represented#Miscellaneous\n",
      "Governments should make voting compulsory so many more citizens will exercise their right to vote.#Increased Voting#Increased Voting\n",
      "Governments should make voting compulsory so majority of the population is represented by the elected government.#More Representative#More Representative\n",
      "Governments should make voting compulsory so it might make sense to reward those who are most consistent with their voting.#Miscellaneous#Miscellaneous\n",
      "Governments should make voting compulsory so it makes elections more representative of the public because more people will vote.#More Representative;Increased Voting#More Representative;Increased Voting\n",
      "Governments should make voting compulsory so it is important that control mechanisms be created so that this favors democracy#Miscellaneous#Miscellaneous\n",
      "Governments should make voting compulsory so it ensures that the elected government represents the majority of the population.#More Representative#More Representative\n",
      "Governments should make voting compulsory so it ensures that the elected government represents the majority of the population.#More Representative#More Representative\n",
      "Governments should make voting compulsory so it can hopefully be a true democracy.#Miscellaneous#Miscellaneous\n",
      "Governments should make voting compulsory so it can help us create a fair world and everyone has the right to vote for their future#Miscellaneous#Miscellaneous\n",
      "Governments should make voting compulsory so it can be seen as a civic right and not a civic duty.#Miscellaneous#Miscellaneous\n",
      "Governments should make voting compulsory so everyone's voice is heard.#More Representative#More Representative\n",
      "Governments should make voting compulsory so everyone would feel their opinion on leadership is felt.#Feels Represented#More Representative;Leaders\n",
      "Governments should make voting compulsory so everyone who can vote has a say in what's happening in government.#More Representative#More Representative\n",
      "Governments should make voting compulsory so everyone takes an active role in politics.#Increased Voting#Increased Voting\n",
      "Governments should make voting compulsory so everyone has an opportunity to express their views about their country.#More Representative#More Representative\n",
      "Governments should make voting compulsory so everyone has a voice or choice in their election candidates and their governments.#More Representative;Leaders#More Representative\n",
      "Governments should make voting compulsory so everyone can take part in the electoral process.#Increased Voting#Increased Voting\n",
      "Governments should make voting compulsory so every single citizen has their voice heard.#More Representative#More Representative\n",
      "Governments should make voting compulsory so every citizen has a civic right and duty to vote.#Miscellaneous;Civic Duty#Civic Duty\n",
      "Governments should make voting compulsory so even uninformed voters could vote based on what mainstream media says.#Miscellaneous#More Representative;Miscellaneous\n",
      "Governments should make voting compulsory so ensures that the elected government represents the majority of the population#More Representative#More Representative\n",
      "Governments should make voting compulsory so election results represent the full will of the prople.#More Representative#More Representative\n",
      "Governments should make voting compulsory so democracies will have representative governments.#More Representative#More Representative\n",
      "Governments should make voting compulsory so Compulsory vote for any one.#Miscellaneous#Miscellaneous\n",
      "Governments should make voting compulsory so citizens take a more active part in government.#Increased Voting#Increased Voting\n",
      "Governments should make voting compulsory so citizens can directly engage in elections and help make the important decision that will directly affect them.#More Representative;Increased Voting#Miscellaneous;Increased Voting\n",
      "Governments should make voting compulsory so citizens can decide who they want to be their leaders.#More Representative;Leaders#More Representative;Leaders\n",
      "Governments should make voting compulsory so citizen will go and vote.#Increased Voting#Increased Voting\n",
      "Governments should make voting compulsory so beacause of majority of population#Miscellaneous#Miscellaneous\n",
      "Governments should make voting compulsory so at least no one can make the joke, \" You cant talk, you didn't vote!\"#Miscellaneous#Miscellaneous\n",
      "Governments should make voting compulsory so as to ensures that the elected government represents the majority of the population.#More Representative#More Representative\n",
      "Governments should make voting compulsory so all registered voters will vote on any election or will be punished by government.#Increased Voting#Miscellaneous\n",
      "Governments should make voting compulsory so all may be accounted for.#More Representative#More Representative\n",
      "Governments should make voting compulsory so all citizens will vote to ensure the majority of the population is represented.#More Representative;Increased Voting#More Representative\n",
      "Governments should make voting compulsory so all citizens can have their choices heard, and maybe change the system to their liking.#More Representative;Miscellaneous#More Representative\n",
      "Governments should make voting compulsory so all citizens are involved, educated, and the nation as a whole elects suitable president.#Leaders;Increased Voting#More Representative;Leaders\n",
      "Governments should make voting compulsory so all citizens are given a voice.#More Representative#More Representative\n",
      "Governments should make voting compulsory so all adults feel involved in the electoral process and have an impact on who is elected.#More Representative;Feels Represented#Increased Voting\n",
      "Governments should make voting compulsory so a country can determine percentage of the majority.#Miscellaneous#More Representative\n",
      "Governments should make voting compulsory so we would have leaders in office who represent the majority.#More Representative#More Representative;Leaders\n",
      "Governments should make voting compulsory so we vote the correct person#Leaders#Leaders\n",
      "Governments should make voting compulsory so we vote the correct person#Leaders#Leaders\n",
      "Governments should make voting compulsory so we can get more accurate representation of voters across the whole United States.#More Representative#More Representative\n",
      "Governments should make voting compulsory so we can be ensured as a people that all of ur voices are heard in every politician that is voted to work for us.#More Representative;Leaders#More Representative\n",
      "Governments should make voting compulsory so voters ensures that the elected government represents the majority of the population.#More Representative#More Representative\n",
      "Governments should make voting compulsory so voter turnout is not low.#Increased Voting#Increased Voting\n",
      "Governments should make voting compulsory so voter turnout is higher.#Increased Voting#Increased Voting\n",
      "Governments should make voting compulsory so voter turnout is high.#Increased Voting#Increased Voting\n",
      "Governments should make voting compulsory so voter turnout goes up#Increased Voting#Increased Voting\n",
      "Governments should make voting compulsory so voter participation is encouraged.#Increased Voting#Increased Voting\n",
      "Governments should make voting compulsory so to understand people's view.#More Representative#More Representative\n",
      "Governments should make voting compulsory so they receive the highest possible turnout of voters.#Increased Voting#Increased Voting\n",
      "Governments should make voting compulsory so they can pretend to rule by popular mandate.#Miscellaneous#Miscellaneous\n",
      "Governments should make voting compulsory so theres more data to pull from#Miscellaneous#Miscellaneous\n",
      "Governments should make voting compulsory so there is no more democra8#Miscellaneous#Miscellaneous\n",
      "Governments should make voting compulsory so the votes are accurate and can have a reliable elections or votes that the people are required to do.#Miscellaneous#More Representative\n",
      "Governments should make voting compulsory so the voter turnout is higher.#Increased Voting#Increased Voting\n",
      "Governments should make voting compulsory so the voted in official better represents the needs of the whole community.#More Representative;Leaders#More Representative\n",
      "Governments should make voting compulsory so the voice of what the people really want is heard.#More Representative#More Representative\n",
      "Governments should make voting compulsory so the United States should consider adopting compulsory voting regulations.#Miscellaneous#Miscellaneous\n",
      "Governments should make voting compulsory so the uninformed may cast a ballot paid for by unethical politicians.#Miscellaneous#Miscellaneous\n",
      "Governments should make voting compulsory so the true desires of everyone can be known.#More Representative#More Representative\n",
      "Governments should make voting compulsory so the right person will be elected.#Leaders#Leaders\n",
      "Governments should make voting compulsory so the right candidate gets into office.#Leaders#Leaders\n",
      "Governments should make voting compulsory so the person elected is truly representative of the interests of the majority.#More Representative;Leaders#More Representative;Leaders\n",
      "Governments should make voting compulsory so the people in those countries come out to vote.#Increased Voting#Increased Voting\n",
      "Governments should make voting compulsory so the most popular candidate wins.#Leaders#Leaders\n",
      "Governments should make voting compulsory so the majority of the population is represented.#More Representative#More Representative\n",
      "Governments should make voting compulsory so the government is representative of all citizens.#More Representative#More Representative\n",
      "Governments should make voting compulsory so the government can represent majority of the population#More Representative#More Representative\n",
      "Governments should make voting compulsory so the federal government can finally make a voting holiday.#Miscellaneous#Miscellaneous\n",
      "Governments should make voting compulsory so the electoral voters would have more insight of the people wishes.#Miscellaneous#More Representative\n",
      "Governments should make voting compulsory so the election is representative of the whole nation.#More Representative#More Representative\n",
      "Governments should make voting compulsory so the elected officials are more representative of the population as a whole.#More Representative;Leaders#More Representative;Leaders\n",
      "Governments should make voting compulsory so the elected government represents a majority of the population.#More Representative#More Representative\n",
      "Governments should make voting compulsory so the citizens will participate in the forming the good government and good leaders to run the country in good and growing path#Leaders;Increased Voting#Increased Voting\n",
      "Governments should make voting compulsory so that young people, as well as older, actually vote.#Increased Voting#Increased Voting\n",
      "Governments should make voting compulsory so that whomever is elected is a true representative of a majority of the people.#More Representative#More Representative;Leaders\n",
      "Governments should make voting compulsory so that we can make sure that every citizen has a say in it's representation.#Civic Duty#More Representative\n",
      "Governments should make voting compulsory so that we can get areal feel for how the country as a whole feels.#More Representative#More Representative\n",
      "Governments should make voting compulsory so that we become more like Bolivia.#Miscellaneous#Miscellaneous\n",
      "Governments should make voting compulsory so that voter turnout is higher and the true majority of the locality chooses who gets elected.#Increased Voting#More Representative;Leaders;Increased Voting\n",
      "Governments should make voting compulsory so that voter turn out increases, ensuring that their government is a representative democracy.#More Representative;Increased Voting#More Representative;Increased Voting\n",
      "Governments should make voting compulsory so that voter participation is more encouraged.#Increased Voting#Increased Voting\n",
      "Governments should make voting compulsory so that those elected better represent a majority of the population.#More Representative;Leaders#More Representative;Leaders\n",
      "Governments should make voting compulsory so that they may stop falsifying votes, hopefully.#Miscellaneous#Miscellaneous\n",
      "Governments should make voting compulsory so that they know what all eligible votes think.#More Representative#More Representative\n",
      "Governments should make voting compulsory so that they generate more interest in elections from the public.#Miscellaneous#Increased Voting\n",
      "Governments should make voting compulsory so that they can get a good idea of the opinions of their people#More Representative#More Representative\n",
      "Governments should make voting compulsory so that they are more representative of the full population.#More Representative#More Representative\n",
      "Governments should make voting compulsory so that there is a high voter turnout.#Increased Voting#Increased Voting\n",
      "Governments should make voting compulsory so that the will of the people is genuinely represented.#More Representative#More Representative\n",
      "Governments should make voting compulsory so that the voting polls are more in line with everyone's views not jut a select few.#More Representative#More Representative;Miscellaneous\n",
      "Governments should make voting compulsory so that the votes are more representative of the country's populace.#More Representative#More Representative\n",
      "Governments should make voting compulsory so that the true winner of the vote has the majority of the country's support.#Miscellaneous#More Representative\n",
      "Governments should make voting compulsory so that the running officials are selected by the majority.#More Representative;Leaders#More Representative;Leaders\n",
      "Governments should make voting compulsory so that the person voted in is the one that the majority of the population wants.#More Representative;Leaders#More Representative;Leaders\n",
      "Governments should make voting compulsory so that the person elected accurately portrays the candidate that the country in whole wants in office.#More Representative;Leaders#More Representative;Leaders\n",
      "Governments should make voting compulsory so that the people know the chosen candidate is the voice of the major population#More Representative;Leaders#More Representative;Leaders\n",
      "Governments should make voting compulsory so that the majority of voters get their voices heard.#More Representative#More Representative\n",
      "Governments should make voting compulsory so that the majority of the populous and their goals/beliefs/values are represented in our government.#More Representative#More Representative\n",
      "Governments should make voting compulsory so that the government is a more accurate reflection of the population's desires.#More Representative#More Representative\n",
      "Governments should make voting compulsory so that the government accurately represents its people.#More Representative#More Representative\n",
      "Governments should make voting compulsory so that the election results show a truly democratic decision.#More Representative#Miscellaneous\n",
      "Governments should make voting compulsory so that the bulk of the voting populace pays attention to politics.#Miscellaneous#Miscellaneous\n",
      "Governments should make voting compulsory so that people will turn out to vote.#Increased Voting#Increased Voting\n",
      "Governments should make voting compulsory so that people will actually have a need to stay informed about what's going on in politics.#Miscellaneous#Miscellaneous\n",
      "Governments should make voting compulsory so that people understand the importance of voting and vote.#Miscellaneous;Increased Voting#Increased Voting\n",
      "Governments should make voting compulsory so that people elect the true choice in the election.#Miscellaneous#Miscellaneous\n",
      "Governments should make voting compulsory so that people actually care who is elected.#Miscellaneous#Miscellaneous\n",
      "Governments should make voting compulsory so that no one can say they were not given the right to vote or that their vote was suppressed.#Miscellaneous#More Representative;Miscellaneous\n",
      "Governments should make voting compulsory so that more people will cast their vote.#Increased Voting#Increased Voting\n",
      "Governments should make voting compulsory so that more people are involved in what happens in the world.#Miscellaneous#More Representative;Miscellaneous\n",
      "Governments should make voting compulsory so that more of the population have their voices heard by voting.#More Representative;Increased Voting#More Representative;Increased Voting\n",
      "Governments should make voting compulsory so that it has a larger vote count.#Increased Voting#Increased Voting\n",
      "Governments should make voting compulsory so that it ensures the population will vote for a candidate that is truly placed in office by the people and for the people.#More Representative;Leaders#More Representative;Leaders;Increased Voting\n",
      "Governments should make voting compulsory so that it ensures everyone vote and it encourages civic duty to the country.#Increased Voting;Civic Duty#Increased Voting;Civic Duty\n",
      "Governments should make voting compulsory so that it ensures democracies have representative governments.#More Representative#More Representative\n",
      "Governments should make voting compulsory so that it encourages people to vote and have a say in their government.#Increased Voting#More Representative;Increased Voting\n",
      "Governments should make voting compulsory so that governments do not misuse the power of mandatory voting.#Miscellaneous#Miscellaneous\n",
      "Governments should make voting compulsory so that everyone's opinion s counted, and no one is left out.#More Representative#More Representative\n",
      "Governments should make voting compulsory so that everyone who qualifies to vote 8n an election are required to do so.#Miscellaneous#Increased Voting\n",
      "Governments should make voting compulsory so that everyone votes and has a say in their local politics.#Increased Voting#More Representative;Increased Voting\n",
      "Governments should make voting compulsory so that everyone participates#Increased Voting#Increased Voting\n",
      "Governments should make voting compulsory so that everyone is performing their civic duty#Civic Duty#Civic Duty\n",
      "Governments should make voting compulsory so that everyone fully participates in our democracy.#Increased Voting#Increased Voting\n",
      "Governments should make voting compulsory so that everyone can have their voice heard without the need of riots and pickets or walkouts and without all the drama of such#More Representative;Miscellaneous#More Representative\n",
      "Governments should make voting compulsory so that everyone can get out and vote and not have an excuse.#Increased Voting#Miscellaneous;Increased Voting\n",
      "Governments should make voting compulsory so that every vote is counted and matters.#More Representative#More Representative;Miscellaneous\n",
      "Governments should make voting compulsory so that every citizen can make their vote count since its their civic duty.#Civic Duty#Civic Duty\n",
      "Governments should make voting compulsory so that every citizen can be represented by the people they vote for#Miscellaneous#More Representative\n",
      "Governments should make voting compulsory so that elections receive as much attention as American Idol#Miscellaneous#Miscellaneous\n",
      "Governments should make voting compulsory so that elected government represents the majority of the population#More Representative#More Representative\n",
      "Governments should make voting compulsory so that dictatorships are everywhere & the government can direct people to conformity,#Miscellaneous#Miscellaneous\n",
      "Governments should make voting compulsory so that democracies can have a more complete representative government.#More Representative#More Representative\n",
      "Governments should make voting compulsory so that all people contribute to the outcome.#Increased Voting#More Representative\n",
      "Governments should make voting compulsory so that all people are encouraged to participate in the election process.#Increased Voting#Increased Voting\n",
      "Governments should make voting compulsory so that all citizens of voting age will know their vote counted#Feels Represented#Miscellaneous\n",
      "Governments should make voting compulsory so that all citizens can have a say in political affairs.#More Representative#More Representative\n",
      "Governments should make voting compulsory so that a true popular vote elects the candidate.#Miscellaneous#More Representative;Leaders\n",
      "Governments should make voting compulsory so that a majority of the population actually elects the government.#More Representative#More Representative\n",
      "Governments should make voting compulsory so that a decline in voter turnout, like the 30% drop in Venezuela, is avoided#Increased Voting#Increased Voting\n",
      "Governments should make voting compulsory so people will be more involved in politics.#Increased Voting#Increased Voting\n",
      "Governments should make voting compulsory so people have the ability to think before they vote#Miscellaneous#Miscellaneous\n",
      "Governments should make voting compulsory so people can feel encouraged to have their voice heard.#Miscellaneous#Feels Represented\n",
      "Governments should make voting compulsory so people can be in charge of who is in charge.#More Representative;Leaders#Miscellaneous\n",
      "Governments should make voting compulsory so people are required to make a choice.#Miscellaneous#Miscellaneous\n",
      "Governments should make voting compulsory so no one's views are left out of the political process.#More Representative#Miscellaneous\n",
      "Governments should make voting compulsory so Most democratic governments#Miscellaneous#Miscellaneous\n",
      "Governments should make voting compulsory so more people will be concerned with politics.#Miscellaneous#Miscellaneous\n",
      "Governments should make voting compulsory so more people vote.#Increased Voting#Increased Voting\n",
      "Governments should make voting compulsory so more people take part in the political process.#Increased Voting#Increased Voting\n",
      "Governments should make voting compulsory so more people get involved in their own government.#Increased Voting#More Representative\n",
      "Governments should make voting compulsory so more of the population is represented in politics.#More Representative#More Representative\n",
      "Governments should make voting compulsory so more of the citizens turn out to elections creating a more representative election and engagement in voting.#More Representative;Increased Voting#More Representative;Increased Voting\n",
      "Governments should make voting compulsory so Low voter turnout is a common problem in countries without compulsory voting#Miscellaneous#Increased Voting\n",
      "Governments should make voting compulsory so low voter turnout does not occur.#Increased Voting#Increased Voting\n",
      "Governments should make voting compulsory so lets make election day a holiday.#Miscellaneous#Miscellaneous\n",
      "Governments should make voting compulsory so let's make sure they do not misuse their power.#Miscellaneous#Miscellaneous\n",
      "Governments should make voting compulsory so it's always best to give people options and the freedom to vote#Miscellaneous#Miscellaneous\n",
      "Governments should make voting compulsory so it would solve the low voter turnout issue.#Increased Voting#Increased Voting\n",
      "Governments should make voting compulsory so it will help our nation and make peace in our country.#Miscellaneous#Miscellaneous\n",
      "Governments should make voting compulsory so it shows that the elected government represents the majority population .#More Representative#More Representative\n",
      "Governments should make voting compulsory so it should be seen as a civic duty rather than a civic right.#Civic Duty#Miscellaneous\n",
      "Governments should make voting compulsory so it should be followed#Miscellaneous#Miscellaneous\n",
      "Governments should make voting compulsory so it represents the majority of voters.#More Representative#More Representative\n",
      "Governments should make voting compulsory so it is a civic right and not a civic duty#Miscellaneous#Miscellaneous\n",
      "Governments should make voting compulsory so it could be a more fair election#Miscellaneous#Miscellaneous\n",
      "Governments should make voting compulsory so it becomes part of a culture.#Miscellaneous#Miscellaneous\n",
      "Governments should make voting compulsory so helping individuals vote is one approach to further engage the individuals we serve, Additionally, casting a ballot is related to a large group of positive advantages.#Miscellaneous#Increased Voting\n",
      "Governments should make voting compulsory so he elected government represents the majority of the population.#More Representative#More Representative\n",
      "Governments should make voting compulsory so everyone's voice matters.#More Representative#More Representative\n",
      "Governments should make voting compulsory so everyone would vote, not just a few.#Increased Voting#Increased Voting\n",
      "Governments should make voting compulsory so everyone participates in the political system.#Increased Voting#Increased Voting\n",
      "Governments should make voting compulsory so everyone is represented.#More Representative#More Representative\n",
      "Governments should make voting compulsory so everyone has a say in who is elected.#More Representative;Leaders#More Representative;Leaders\n",
      "Governments should make voting compulsory so everyone gets an equal say in who is elected.#More Representative#More Representative;Leaders\n",
      "Governments should make voting compulsory so ensures that the elected government represents the majority of the population.#More Representative#More Representative\n",
      "Governments should make voting compulsory so elections have better turnouts and can more accurately reflect the public's opinions.#More Representative;Increased Voting#More Representative;Increased Voting\n",
      "Governments should make voting compulsory so elections are as fair as possible.#Miscellaneous#Miscellaneous\n",
      "Governments should make voting compulsory so elected officials represent the majority of the popuultation.#More Representative;Leaders#More Representative;Leaders\n",
      "Governments should make voting compulsory so elected officials more accurately represent the views of the nation as a whole.#More Representative;Leaders#More Representative;Leaders\n",
      "Governments should make voting compulsory so democracy can be in full effect.#Miscellaneous#Miscellaneous\n",
      "Governments should make voting compulsory so democracies have representative governments.#More Representative#More Representative\n",
      "Governments should make voting compulsory so democracies have representative governments#More Representative#More Representative\n",
      "Governments should make voting compulsory so countries that don't have compulsory voting should change their laws.#Miscellaneous#Miscellaneous\n",
      "Governments should make voting compulsory so citizens to not feel like their civil liberties are violated.#Miscellaneous#Miscellaneous\n",
      "Governments should make voting compulsory so citizens feel they have a voice and that the results represent the majority vote.#More Representative;Feels Represented#Feels Represented\n",
      "Governments should make voting compulsory so citizens can perform their civic duty.#Civic Duty#Civic Duty\n",
      "Governments should make voting compulsory so but those voting ensures that the elected government represents the majority of the population#More Representative#More Representative\n",
      "Governments should make voting compulsory so But those against compulsory voting say that it is a violation of personal liberties and choices#Miscellaneous#Miscellaneous\n",
      "Governments should make voting compulsory so as to raise low voter turnout.#Increased Voting#Increased Voting\n",
      "Governments should make voting compulsory so an active minority cannot disproportionately control power.#Miscellaneous#Miscellaneous\n",
      "Governments should make voting compulsory so all voices have an equal say in the government#More Representative#More Representative\n",
      "Governments should make voting compulsory so all of their citizens vote.#Increased Voting#Increased Voting\n",
      "Governments should make voting compulsory so all citizens have a chance to cast a vote.#Miscellaneous#\n",
      "Governments should make voting compulsory so all citizen compulsory to vote.#Miscellaneous#Increased Voting\n",
      "Governments should make voting compulsory so a true majority of the population is represented by the winner.#More Representative#More Representative\n",
      "Governments should make voting compulsory so a representative is elected by the community as a whole.#More Representative;Leaders#More Representative;Leaders\n",
      "Governments should make voting compulsory so why don't they do it already?#Miscellaneous#Miscellaneous\n",
      "Governments should make voting compulsory so voting should be seen as a civic right and not a civic duty.#Miscellaneous#Miscellaneous\n",
      "Governments should make voting compulsory so voting represents the population better.#More Representative#More Representative\n",
      "Governments should make voting compulsory so voters will stop being apathetic and vote in elections#Apathy;Increased Voting#Apathy;Increased Voting\n",
      "Governments should make voting compulsory so voter turnout remains high and the majority of the population is always represented.#More Representative;Increased Voting#More Representative;Increased Voting\n",
      "Governments should make voting compulsory so voter apathy will no longer be a problem.#Apathy#Apathy;Increased Voting\n",
      "Governments should make voting compulsory so to encourage voter participation.#Increased Voting#Increased Voting\n",
      "Governments should make voting compulsory so they would have to have a punishment for people who still avoid doing it.#Miscellaneous#Miscellaneous\n",
      "Governments should make voting compulsory so they know how the country truly feels on certain issues.#More Representative#More Representative\n",
      "Governments should make voting compulsory so they get everyone's vote to count.#More Representative#More Representative\n",
      "Governments should make voting compulsory so they can ensure that the government truly represents the will of the people by soliciting the opinions of a majority of the citizens.#More Representative;Increased Voting#More Representative\n",
      "Governments should make voting compulsory so there will not be a lack of the overall population taking part in political elections.#Increased Voting#Increased Voting\n",
      "Governments should make voting compulsory so there is less fighting after the polls.#Miscellaneous#Miscellaneous\n",
      "Governments should make voting compulsory so there is a real chance for changes.#Miscellaneous#Miscellaneous\n",
      "Governments should make voting compulsory so the voter turnout does not drastically decline.#Increased Voting#Increased Voting\n",
      "Governments should make voting compulsory so the vote will be a true choice of people.#Miscellaneous#Miscellaneous\n",
      "Governments should make voting compulsory so the true interests of all the people in a country are represented instead of just those who care enough or have the resources to vote.#More Representative#More Representative\n",
      "Governments should make voting compulsory so the right person is elected for the job based on the peoples choice.#More Representative;Leaders#More Representative;Leaders\n",
      "Governments should make voting compulsory so the person that is elected is truly a representative of all of the people.#More Representative;Leaders#More Representative;Leaders\n",
      "Governments should make voting compulsory so the person elected will represent the majority of the population.#More Representative;Leaders#More Representative;Leaders\n",
      "Governments should make voting compulsory so the people see it as a civic right not a civic duty.#Miscellaneous#Miscellaneous\n",
      "Governments should make voting compulsory so the people are the ones who are physically choosing who they want to govern them and guide their country towards a better future.#Miscellaneous#More Representative;Leaders\n",
      "Governments should make voting compulsory so the masses can elect their choice#More Representative#Miscellaneous\n",
      "Governments should make voting compulsory so the majority rule is reflected with regards to all citizens.#More Representative#More Representative\n",
      "Governments should make voting compulsory so the majority of voices are heard in the election results.#More Representative#More Representative\n",
      "Governments should make voting compulsory so the majority of the population gets the candidate they want.#More Representative;Leaders#More Representative;Leaders\n",
      "Governments should make voting compulsory so the majority of people vote, which makes democracy really representative#More Representative;Increased Voting#More Representative\n",
      "Governments should make voting compulsory so the governments can feel better about voter numbers.#Miscellaneous#Increased Voting\n",
      "Governments should make voting compulsory so the election is decided by all of the people, not just the ones who show up to vote.#More Representative#More Representative\n",
      "Governments should make voting compulsory so the election has more of the peoples input.#More Representative#More Representative\n",
      "Governments should make voting compulsory so the elected president/parliament/congress, etc. reflects more accurately the will of the people.#More Representative;Leaders#More Representative;Leaders\n",
      "Governments should make voting compulsory so the elected officials are accurately representing the voice of the populace.#More Representative;Leaders#More Representative;Leaders\n",
      "Governments should make voting compulsory so the elected official represents the majority of the population.#More Representative;Leaders#More Representative;Leaders\n",
      "Governments should make voting compulsory so the elected government represents the majority of the population.#More Representative#More Representative\n",
      "Governments should make voting compulsory so the elected government accurately represents the people.#More Representative#More Representative\n",
      "Governments should make voting compulsory so the candidates will not just focus on one group of people but the country as a whole.#Miscellaneous#More Representative;Leaders\n",
      "Governments should make voting compulsory so that we can see more people take an interest in who is going to be our new president.#Miscellaneous;Leaders#Leaders\n",
      "Governments should make voting compulsory so that we all actually have a real vote or not no vote#Miscellaneous#Miscellaneous\n",
      "Governments should make voting compulsory so that voting should be seen as a civic right and not a civic duty.#Miscellaneous#Miscellaneous\n",
      "Governments should make voting compulsory so that voter turnout is increased.#Increased Voting#Increased Voting\n",
      "Governments should make voting compulsory so that voter turnout is higher and we have a true representative democracy.#More Representative;Increased Voting#More Representative;Increased Voting\n",
      "Governments should make voting compulsory so that voter participation is up.#Increased Voting#Increased Voting\n",
      "Governments should make voting compulsory so that voter participation is encouraged.#Increased Voting#Increased Voting\n",
      "Governments should make voting compulsory so that voter participation is encouraged.#Increased Voting#Increased Voting\n",
      "Governments should make voting compulsory so that they have majority of the population represented in the process.#More Representative#More Representative\n",
      "Governments should make voting compulsory so that they have good representation of what their citizens want for the laws.#Miscellaneous#More Representative\n",
      "Governments should make voting compulsory so that they can interfere with the civil liberties of their citizens.#Miscellaneous#Miscellaneous\n",
      "Governments should make voting compulsory so that there will be a higher voter turnout and the entire populations voice is heard.#More Representative;Increased Voting#More Representative;Increased Voting\n",
      "Governments should make voting compulsory so that there is not a low voter turn out.#Increased Voting#Increased Voting\n",
      "Governments should make voting compulsory so that there is a reason for people to get involved in politics but there should be no punishment fir those who do not vote#Miscellaneous#Miscellaneous\n",
      "Governments should make voting compulsory so that there is a more representative government.#More Representative#More Representative\n",
      "Governments should make voting compulsory so that there is a higher voter turnout and the elected government is represented my a larger number of the population.#More Representative;Increased Voting#More Representative;Increased Voting\n",
      "Governments should make voting compulsory so that there is a correlation between the population and the government in terms of representation.#More Representative#More Representative\n",
      "Governments should make voting compulsory so that the will of the People, not just of some people, can be carried out.#More Representative#More Representative\n",
      "Governments should make voting compulsory so that the the odds of electing a government more representative of the majority of the citizens is hopefully improved.#More Representative#More Representative\n",
      "Governments should make voting compulsory so that the same person gets elected every time.#Miscellaneous#Leaders\n",
      "Governments should make voting compulsory so that the problem of low voter turnout can be addressed.#Increased Voting#Increased Voting\n",
      "Governments should make voting compulsory so that the people can have more representative governments.#More Representative#More Representative\n",
      "Governments should make voting compulsory so that the majority will vote the elected official in.#Increased Voting#More Representative;Leaders\n",
      "Governments should make voting compulsory so that the majority of the population have a say in their government representation.#More Representative#More Representative\n",
      "Governments should make voting compulsory so that the majority of the people voice's will be heard.#More Representative#More Representative\n",
      "Governments should make voting compulsory so that the greatest number of voices are heard when deciding on our leaders.#More Representative#More Representative;Leaders\n",
      "Governments should make voting compulsory so that the government is representative of the people.#More Representative#More Representative\n",
      "Governments should make voting compulsory so that the governement is an actual representation of the people#More Representative#More Representative\n",
      "Governments should make voting compulsory so that the elected officials are truly in office because the majority of the population wanted them there.#More Representative;Leaders#More Representative;Leaders\n",
      "Governments should make voting compulsory so that the elected government represent the majority of the population. X6#More Representative#More Representative\n",
      "Governments should make voting compulsory so that the elected government is representative of the majority of the population.#More Representative#More Representative\n",
      "Governments should make voting compulsory so that the elected government is a true representation of the people's vote.#More Representative;Leaders#More Representative\n",
      "Governments should make voting compulsory so that the country is accurately represented.#More Representative#More Representative\n",
      "Governments should make voting compulsory so that people won't blow off the countries future.#Miscellaneous#Miscellaneous\n",
      "Governments should make voting compulsory so that people are more engaged with their government and actively create the society that they want to live in.#Miscellaneous;Increased Voting#Increased Voting\n",
      "Governments should make voting compulsory so that participation in voting will be high.#Increased Voting#Increased Voting\n",
      "Governments should make voting compulsory so that more people would vote.#Increased Voting#Increased Voting\n",
      "Governments should make voting compulsory so that more citizens across the world become invested in their government's election process and try to find out more about potential candidates.#Miscellaneous#Increased Voting\n",
      "Governments should make voting compulsory so that it ensures that the elected government represents the majority of the population.#More Representative#More Representative\n",
      "Governments should make voting compulsory so that it encourages citizens to vote for their desired candidate or help get the right person in office.#Leaders;Increased Voting#Leaders;Increased Voting\n",
      "Governments should make voting compulsory so that governments are representative of its citizens.#More Representative#More Representative\n",
      "Governments should make voting compulsory so that everyone's voice is heard during every election and to prevent voter intimidation and voter fraud.#More Representative;Miscellaneous#More Representative\n",
      "Governments should make voting compulsory so that everyone has their voice heard.#More Representative#More Representative\n",
      "Governments should make voting compulsory so that everyone has an opportunity to make their voice heard.#More Representative#More Representative\n",
      "Governments should make voting compulsory so that everyone has a voice in who gets elected.#More Representative;Leaders#More Representative;Leaders\n",
      "Governments should make voting compulsory so that everyone has a say in our leadership.#More Representative;Leaders#More Representative;Leaders\n",
      "Governments should make voting compulsory so that everyone gets a fair election#Miscellaneous#Miscellaneous\n",
      "Governments should make voting compulsory so that everyone does their duty by voting.#Increased Voting;Civic Duty#Increased Voting;Civic Duty\n",
      "Governments should make voting compulsory so that everyone can participate in the government elections with high voter turnout.#Increased Voting#Increased Voting\n",
      "Governments should make voting compulsory so that everyone can get use to it and make it a habit.#Miscellaneous#Miscellaneous\n",
      "Governments should make voting compulsory so that everyone can get their voices heard#More Representative#More Representative\n",
      "Governments should make voting compulsory so that every eligible citizen will participate.#Increased Voting#Increased Voting\n",
      "Governments should make voting compulsory so that every citizen will feel like he/she matters.#Miscellaneous#Feels Represented\n",
      "Governments should make voting compulsory so that every citizen has a true say.#More Representative#Miscellaneous\n",
      "Governments should make voting compulsory so that every citizen cast their vote.#Increased Voting#Increased Voting\n",
      "Governments should make voting compulsory so that employers are thus forced to give employees paid time to vote, thus ensuring employees are able to participate in democracy without being subject to employers' whims.#Miscellaneous#Miscellaneous\n",
      "Governments should make voting compulsory so that eligible voters pay attention to politics and turn out to the polls.#Miscellaneous;Increased Voting#Increased Voting\n",
      "Governments should make voting compulsory so that elected officials represent the will of all or most of the people.#More Representative;Leaders#More Representative;Leaders\n",
      "Governments should make voting compulsory so that elected officials represent a majority of the population.#More Representative;Leaders#More Representative;Leaders\n",
      "Governments should make voting compulsory so that elected officials are given the support of the people they represent.#More Representative;Leaders#More Representative;Leaders\n",
      "Governments should make voting compulsory so that elected government represents the majority of constituents.#More Representative#More Representative\n",
      "Governments should make voting compulsory so that compulsory voting ensures that the elected government represents the majority of the population#More Representative#More Representative\n",
      "Governments should make voting compulsory so that citizens will learn to be involved in American politics just as much as are with American Idol.#Miscellaneous#Miscellaneous\n",
      "Governments should make voting compulsory so that all eligible able-bodied voters will vote.#Increased Voting#Increased Voting\n",
      "Governments should make voting compulsory so that all elections are representative of the people's will.#More Representative#More Representative\n",
      "Governments should make voting compulsory so PLEASE PEOPLE VOTING COMPULSORY#Miscellaneous#Miscellaneous\n",
      "Governments should make voting compulsory so perhaps a more accurate public opinion could be gained.#More Representative#More Representative\n",
      "Governments should make voting compulsory so people's liberties are respected.#Miscellaneous#Miscellaneous\n",
      "Governments should make voting compulsory so people will be forced to make a decision on who they want elected rather than taking a more passive approach and not vote at all.#Leaders;Increased Voting#Miscellaneous;Increased Voting\n",
      "Governments should make voting compulsory so people make the effort to participate.#Increased Voting#Increased Voting\n",
      "Governments should make voting compulsory so people have to at least vote the government does not manipulate so much#Miscellaneous#Miscellaneous\n",
      "Governments should make voting compulsory so people can pay more attention to the candidates and pick whose right for the job.#Miscellaneous#More Representative;Leaders\n",
      "Governments should make voting compulsory so people can not say that their voice isn't heard or they don't have a say in government.#More Representative#More Representative\n",
      "Governments should make voting compulsory so people can be a part of choosing the course of government#Miscellaneous#More Representative\n",
      "Governments should make voting compulsory so people all have a voice, and our true feelings and thoughts are out there for all to see.#More Representative;Miscellaneous#More Representative\n",
      "Governments should make voting compulsory so participation in voting can increase and elections are more fair, honest, and representative for all people, not just those who happen to make their voices heard because they feel#More Representative;Miscellaneous;Increased Voting#More Representative\n",
      "Governments should make voting compulsory so most citizens will vote.#Increased Voting#Increased Voting\n",
      "Governments should make voting compulsory so more people's voices are heard.#More Representative#More Representative\n",
      "Governments should make voting compulsory so more of the population will vote.#Increased Voting#Increased Voting\n",
      "Governments should make voting compulsory so more citizens are compelled to exercise their civil duties.#Civic Duty#Increased Voting;Civic Duty\n",
      "Governments should make voting compulsory so mandatory voting may seem like a great way to encourage voter participation.#Increased Voting#Increased Voting\n",
      "Governments should make voting compulsory so majority of population votes, representation reflects the population.#More Representative;Increased Voting#More Representative\n",
      "Governments should make voting compulsory so it will be easier for dictators to take control.#Miscellaneous#Miscellaneous\n",
      "Governments should make voting compulsory so it was easily find the real citizen in the country.#Miscellaneous#Miscellaneous\n",
      "Governments should make voting compulsory so it is difficult to view voting as a civic right instead of a civic duty.#Miscellaneous#Miscellaneous\n",
      "Governments should make voting compulsory so it creates an atmosphere most similar to a true democracy - where the winning candidate is more likely to represent the majority of voters.#More Representative;Leaders#More Representative;Leaders\n",
      "Governments should make voting compulsory so it can encourages the high percentage of abstaining voters to participate in elections.#Increased Voting#Increased Voting\n",
      "Governments should make voting compulsory so he is an election#Miscellaneous#Miscellaneous\n",
      "Governments should make voting compulsory so having clear requirements and exceptions are necessary.#Miscellaneous#Miscellaneous\n",
      "Governments should make voting compulsory so everyones voices can be heard.#More Representative#More Representative\n",
      "Governments should make voting compulsory so everyone who is able to vote can.#Increased Voting#Miscellaneous\n",
      "Governments should make voting compulsory so everyone is forced to cast a ballot and the candidate who has the most votes wins.#Increased Voting#\n",
      "Governments should make voting compulsory so everyone has a say.#More Representative#More Representative\n",
      "Governments should make voting compulsory so everyone has a say so in who they want in office and etc#More Representative;Leaders#More Representative;Leaders\n",
      "Governments should make voting compulsory so everyone has a say in what happens in their country.#More Representative#More Representative\n",
      "Governments should make voting compulsory so everyone has a say in the country's future.#Increased Voting#More Representative\n",
      "Governments should make voting compulsory so everyone gets to voice their opinion.#More Representative#More Representative\n",
      "Governments should make voting compulsory so everyone gets a vote.#Miscellaneous#More Representative\n",
      "Governments should make voting compulsory so everyone feels like they are involved in their country.#Miscellaneous#Increased Voting;Feels Represented\n",
      "Governments should make voting compulsory so everyone can have a say in how their government is run.#More Representative#More Representative;Leaders\n",
      "Governments should make voting compulsory so everybody is forced to make a choice between the candidates.#Miscellaneous#Miscellaneous\n",
      "Governments should make voting compulsory so every voter truly has a voice instead of relying on the few who do vote.#More Representative#More Representative\n",
      "Governments should make voting compulsory so every voice is heard.#More Representative#More Representative\n",
      "Governments should make voting compulsory so every one of its citizens voices and opinions can be heard.#More Representative#More Representative\n",
      "Governments should make voting compulsory so every citizen will have the democratic right to express their own political choices.#More Representative#Miscellaneous\n",
      "Governments should make voting compulsory so every citizen will actually vote#Increased Voting#Increased Voting\n",
      "Governments should make voting compulsory so every citizen plays an active part in politics.#Increased Voting#Increased Voting\n",
      "Governments should make voting compulsory so every American is insured their individual right.#Miscellaneous#Miscellaneous\n",
      "Governments should make voting compulsory so elections have good turnout.#Increased Voting#Increased Voting\n",
      "Governments should make voting compulsory so elections are a more accurate representation of the electorate.#More Representative#More Representative\n",
      "Governments should make voting compulsory so Election Day should be made a national holiday allowing citizens the opportunity to exercise their right to vote.#Miscellaneous#Miscellaneous\n",
      "Governments should make voting compulsory so elected representatives represent the majority of the population#More Representative;Leaders#More Representative;Leaders\n",
      "Governments should make voting compulsory so companies should give adequate time off to be able to do so.#Miscellaneous#Miscellaneous\n",
      "Governments should make voting compulsory so citizens utilize their civil duty.#Civic Duty#Civic Duty\n",
      "Governments should make voting compulsory so candidates will be elected according to the majority of all votes.#More Representative#More Representative;Leaders\n",
      "Governments should make voting compulsory so all the people should be involved in the election.#Miscellaneous#Increased Voting\n",
      "Governments should make voting compulsory so all people are represented in the country.#More Representative#More Representative\n",
      "Governments should make voting compulsory so all democracies can have their representative governments.#More Representative#More Representative\n",
      "Governments should make voting compulsory so all citizens participate in choosing their government.#Increased Voting#Increased Voting\n",
      "Governments should make voting compulsory so all citizens have their voice heard.#More Representative#More Representative\n",
      "Governments should make voting compulsory so a high voter turn out takes part in their democracy.#Increased Voting#Increased Voting\n",
      "Governments should make voting compulsory so a civic right and not a civic duty.#Miscellaneous#Miscellaneous\n",
      "Governments should make voting compulsory so , everyone is represented in the government.#More Representative#More Representative\n",
      "Governments should make voting compulsory so we the correct person#Miscellaneous#Leaders\n",
      "Governments should make voting compulsory so we choose correct person.#Leaders#Leaders\n",
      "Governments should make voting compulsory so we can feel confident that the elected official is representative of the majority of the population, not just the majority of the people who opted to vote.#More Representative;Leaders#More Representative;Leaders\n",
      "Governments should make voting compulsory so we all are hear and have someone there for us so the goverment knows how we feel about how things are being done for us but as people we need to feel free were we do it and vocal#More Representative;Miscellaneous#Miscellaneous\n",
      "Governments should make voting compulsory so voting should be made more accessible to everyone.#Miscellaneous#Miscellaneous\n",
      "Governments should make voting compulsory so voting is a civic right not duty.#Miscellaneous#Miscellaneous\n",
      "Governments should make voting compulsory so voting ensures that the elected government represents the majority of the population.#More Representative#More Representative\n",
      "Governments should make voting compulsory so voter turnout is higher.#Increased Voting#Increased Voting\n",
      "Governments should make voting compulsory so voter apathy won't interfere with voter turnout#Apathy;Increased Voting#Increased Voting\n",
      "Governments should make voting compulsory so they can combat low voter turnout and ensure that government is truly representative of the people. #More Representative;Increased Voting#More Representative;Increased Voting\n",
      "Governments should make voting compulsory so there will be no more low voter turnout and apathy.#Apathy;Increased Voting#Increased Voting\n",
      "Governments should make voting compulsory so there will be a higher turnout at the polls and citizens are motivated, by law, to vote.#Increased Voting#Increased Voting\n",
      "Governments should make voting compulsory so there should be easier ways to vote, online and absentee voting.#Miscellaneous#Miscellaneous\n",
      "Governments should make voting compulsory so there is not a major decline in voter participation such as Venezuela who saw a 30% decrease in voters coming to the polls.#Increased Voting#Increased Voting\n",
      "Governments should make voting compulsory so there is a maximally representative census of the will of the people#More Representative#More Representative\n",
      "Governments should make voting compulsory so there is a better representation from the constituents.#More Representative#More Representative\n",
      "Governments should make voting compulsory so the voter turnout is larger.#Increased Voting#Increased Voting\n",
      "Governments should make voting compulsory so the person chosen is voted for by all#More Representative;Leaders#More Representative;Leaders\n",
      "Governments should make voting compulsory so the people have the decision to decide.#Miscellaneous#More Representative\n",
      "Governments should make voting compulsory so the people have a say.#More Representative#More Representative\n",
      "Governments should make voting compulsory so the majority of the r population is represented.#More Representative#More Representative\n",
      "Governments should make voting compulsory so the majority of the population selects the favored candidate.#More Representative;Leaders#More Representative;Leaders\n",
      "Governments should make voting compulsory so the majority of people will actually vote for who they want to represent them.#More Representative;Increased Voting#Leaders;Increased Voting\n",
      "Governments should make voting compulsory so the governments' elected leaders are true representatives of their constituencies.#More Representative;Leaders#More Representative;Leaders\n",
      "Governments should make voting compulsory so the government represents the majority of the population.#More Representative#More Representative\n",
      "Governments should make voting compulsory so the government represents the majority of the population#More Representative#More Representative\n",
      "Governments should make voting compulsory so the government is a true reflection of the will of the people.#More Representative#More Representative\n",
      "Governments should make voting compulsory so the elected representative is truly representing the population.#More Representative;Leaders#More Representative;Leaders\n",
      "Governments should make voting compulsory so the elected official represents the masses.#More Representative;Leaders#More Representative;Leaders\n",
      "Governments should make voting compulsory so the elected government represents the majority of the population#More Representative#More Representative\n",
      "Governments should make voting compulsory so the elected government represents a majority of the people.#More Representative#More Representative\n",
      "Governments should make voting compulsory so the elected candidate is more representative of the population they will be governing.#More Representative;Leaders#More Representative;Leaders\n",
      "Governments should make voting compulsory so that, if used responsibly, the results of elections would more accurately match how the voters in the country actually feel.#More Representative#More Representative\n",
      "Governments should make voting compulsory so that whoever is voted in is really the person that the people wanted not just the person that was voted in because most people did give their vote.#More Representative#More Representative;Leaders\n",
      "Governments should make voting compulsory so that we get the best person for our goverments#Miscellaneous;Leaders#Leaders\n",
      "Governments should make voting compulsory so that we can select the right leader for betterment#Leaders#Leaders\n",
      "Governments should make voting compulsory so that voting can be seen as a civic right and not a civic duty.#Miscellaneous#Miscellaneous\n",
      "Governments should make voting compulsory so that voter turnout is much higher.#Increased Voting#Increased Voting\n",
      "Governments should make voting compulsory so that voter turnout is higher and people are more engaged in politics.#Increased Voting#Increased Voting\n",
      "Governments should make voting compulsory so that they get the opinion of every citizen, not just a few.#More Representative#\n",
      "Governments should make voting compulsory so that they can get a more accurate representation of the nation's opinion on their policies and leaders.#More Representative;Leaders#More Representative\n",
      "Governments should make voting compulsory so that there is a renewed political interest in our world that favors \"American Idol\" over choosing a worthy political candidate to run our governments.#Miscellaneous#Miscellaneous\n",
      "Governments should make voting compulsory so that there can be nobody saying that a leader would’ve been elected instead if everyone had voted.#Miscellaneous#More Representative;Leaders\n",
      "Governments should make voting compulsory so that their people are represented fairly by the people they want to lead the country.#More Representative;Leaders#More Representative;Leaders\n",
      "Governments should make voting compulsory so that their democratic government can truly be representative of the people.#More Representative#More Representative\n",
      "Governments should make voting compulsory so that the voter turnout in that country would increase.#Increased Voting#Increased Voting\n",
      "Governments should make voting compulsory so that the views of the entire population are more accurately depicted in the results.#More Representative#More Representative\n",
      "Governments should make voting compulsory so that the use of the Electoral College is no longer necessary.#Miscellaneous#Miscellaneous\n",
      "Governments should make voting compulsory so that the true majority vote winner will be chosen.#More Representative#Miscellaneous\n",
      "Governments should make voting compulsory so that the population is engaged in voting andthat these votes actually represent what they want#More Representative;Increased Voting#More Representative;Increased Voting\n",
      "Governments should make voting compulsory so that the population has inventive to participate in the election process.#Increased Voting#Increased Voting\n",
      "Governments should make voting compulsory so that the political representative with the best policies get into office.#Miscellaneous#More Representative;Leaders\n",
      "Governments should make voting compulsory so that the person is elected was chosen by everyone.#More Representative#More Representative;Leaders\n",
      "Governments should make voting compulsory so that the person in office is who the people want there instead of just who ever feels like taking the seat.#More Representative;Miscellaneous;Leaders#More Representative;Leaders\n",
      "Governments should make voting compulsory so that the opinions of all citizens are heard.#More Representative#More Representative\n",
      "Governments should make voting compulsory so that the majority of the country is represented.#More Representative#More Representative\n",
      "Governments should make voting compulsory so that the government is truly reflective of the majority.#More Representative#More Representative\n",
      "Governments should make voting compulsory so that the elected party and elected government can represent the majority of the population.#More Representative#More Representative\n",
      "Governments should make voting compulsory so that the elected official represents the majority.#More Representative;Leaders#More Representative;Leaders\n",
      "Governments should make voting compulsory so that the elected official is truly what the majority wanted.#More Representative;Leaders#More Representative;Leaders\n",
      "Governments should make voting compulsory so that the elected government represents the majority of the population.#More Representative#More Representative\n",
      "Governments should make voting compulsory so that the elected government represents the majority of the population#More Representative#More Representative\n",
      "Governments should make voting compulsory so that the country can remain fair with its candidates#Miscellaneous#Miscellaneous\n",
      "Governments should make voting compulsory so that people will participate in elections and not grow apathetic towards politics.#Apathy;Increased Voting#Increased Voting\n",
      "Governments should make voting compulsory so that people get more involved with politics and help combat voter apathy.#Apathy;Increased Voting#Increased Voting\n",
      "Governments should make voting compulsory so that people cast a vote.#Increased Voting#Increased Voting\n",
      "Governments should make voting compulsory so that nearly all eligible voters actually vote.#Increased Voting#Increased Voting\n",
      "Governments should make voting compulsory so that more people participate in this civic duty.#Increased Voting;Civic Duty#Civic Duty\n",
      "Governments should make voting compulsory so that more people participate in electing government officials.#Leaders;Increased Voting#Increased Voting\n",
      "Governments should make voting compulsory so that leaders of countries are represented by true feelings of the majority of people.#More Representative#More Representative;Leaders\n",
      "Governments should make voting compulsory so that it's easy for people to make up their minds.#Miscellaneous#Miscellaneous\n",
      "Governments should make voting compulsory so that higher voter turnout is assured and people do their civic duty.#Increased Voting;Civic Duty#Increased Voting;Civic Duty\n",
      "Governments should make voting compulsory so that everyone’s vote and voice matters and is heard.#More Representative#More Representative\n",
      "Governments should make voting compulsory so that everyone's voice is heard in a democracy, which is governed by the people.#More Representative#More Representative\n",
      "Governments should make voting compulsory so that everyone will have to vote but not be penalized.#Miscellaneous#Miscellaneous\n",
      "Governments should make voting compulsory so that everyone participates on government.#Increased Voting#Increased Voting\n",
      "Governments should make voting compulsory so that everyone is represented.#More Representative#More Representative\n",
      "Governments should make voting compulsory so that everyone in the country can have their voices be heard not just the few amounts of people that make the effort to go vote.#More Representative#More Representative\n",
      "Governments should make voting compulsory so that everyone exercises there right to vote for the person they find to be the best candidate.#Increased Voting#Leaders;Increased Voting\n",
      "Governments should make voting compulsory so that everyone could be heard#More Representative#More Representative\n",
      "Governments should make voting compulsory so that every voter goes to the polls.#Increased Voting#Increased Voting\n",
      "Governments should make voting compulsory so that elections are fair because everyone voted.#Increased Voting#Miscellaneous\n",
      "Governments should make voting compulsory so that elected officials will truly represent the majority of the populace.#More Representative;Leaders#More Representative;Leaders\n",
      "Governments should make voting compulsory so that elected officials are representative of the population's preference.#More Representative;Leaders#More Representative;Leaders\n",
      "Governments should make voting compulsory so that each voice is heard in government and politics.#More Representative#More Representative\n",
      "Governments should make voting compulsory so that each person feels like he has a say i n how his life is governed.#Feels Represented#Miscellaneous\n",
      "Governments should make voting compulsory so that each citizen has an equal voice.#Miscellaneous#Miscellaneous\n",
      "Governments should make voting compulsory so that each and every citizen will excercise their voting rights and the democracy gets an accurate idea of who the people want as a leader to represent them.#More Representative;Leaders;Increased Voting#More Representative;Leaders\n",
      "Governments should make voting compulsory so that each and every citizen cn and will excercise their voting rights and teh democracy gets afair idea of who the people want to represent them.#More Representative;Increased Voting#More Representative;Leaders\n",
      "Governments should make voting compulsory so that citizens will participate in electing their officials.#Leaders;Increased Voting#Increased Voting\n",
      "Governments should make voting compulsory so that citizens perform their obligations#Civic Duty#Civic Duty\n",
      "Governments should make voting compulsory so that all voters are heard.#More Representative#More Representative\n",
      "Governments should make voting compulsory so that all qualified citizens know that they will have a voice in the government.#Feels Represented#More Representative;Leaders\n",
      "Governments should make voting compulsory so that all people will vote and have a voice in elections.#More Representative;Increased Voting#Increased Voting\n",
      "Governments should make voting compulsory so that all people participate in a fair election of the most favorable candidate.#Leaders;Increased Voting#Miscellaneous\n",
      "Governments should make voting compulsory so that all eligible voters will make the effort to vote.#Increased Voting#Increased Voting\n",
      "Governments should make voting compulsory so that all citizens get a voice in government, not just those who are able to make it to the polls.#More Representative#More Representative\n",
      "Governments should make voting compulsory so that adults are proactive and take part in the decision-making that shapes their lives.#Increased Voting#Increased Voting\n",
      "Governments should make voting compulsory so that a true majority of voters are represented by the winner of the election.#More Representative#More Representative;Miscellaneous\n",
      "Governments should make voting compulsory so t represents elections for the country#Miscellaneous#\n",
      "Governments should make voting compulsory so someone will get elected who represents the majority of the population.#More Representative;Leaders#More Representative;Leaders\n",
      "Governments should make voting compulsory so some places, like Australia and Bolivia, already have.#Miscellaneous#Miscellaneous\n",
      "Governments should make voting compulsory so people care about their decisions.#Miscellaneous#Miscellaneous\n",
      "Governments should make voting compulsory so people can participate in the political process.#Increased Voting#Increased Voting\n",
      "Governments should make voting compulsory so people can attend and vote#Miscellaneous#Increased Voting\n",
      "Governments should make voting compulsory so others can have a voice or if they want to be incognito.#More Representative#Miscellaneous\n",
      "Governments should make voting compulsory so more people would vote and be engaged in the political process of their country.#Increased Voting#Increased Voting\n",
      "Governments should make voting compulsory so more people will vote.#Increased Voting#Increased Voting\n",
      "Governments should make voting compulsory so more people will be interested in politics.#Miscellaneous#Miscellaneous\n",
      "Governments should make voting compulsory so more people will actually get out and vote during an election.#Increased Voting#Increased Voting\n",
      "Governments should make voting compulsory so more people vote so the true winner can win#Increased Voting#Increased Voting\n",
      "Governments should make voting compulsory so more people vote in the elections.#Increased Voting#Increased Voting\n",
      "Governments should make voting compulsory so more people vote and the population is better represented in the government officials who get elected.#More Representative;Leaders;Increased Voting#More Representative;Leaders;Increased Voting\n",
      "Governments should make voting compulsory so more people are forced to be involved in voting.#Increased Voting#Increased Voting\n",
      "Governments should make voting compulsory so more of the populace will become active in the political process.#Increased Voting#Increased Voting\n",
      "Governments should make voting compulsory so more input from people can actually be accounted for.#More Representative#More Representative\n",
      "Governments should make voting compulsory so many people who were not going to vote will cast their ballot#Increased Voting#Increased Voting\n",
      "Governments should make voting compulsory so low voter turnout isn't a problem.#Increased Voting#Increased Voting\n",
      "Governments should make voting compulsory so it will be considered a civic right, not a civic duty.#Miscellaneous#Miscellaneous\n",
      "Governments should make voting compulsory so it shows a majority vote for president.#Leaders#Leaders;Increased Voting\n",
      "Governments should make voting compulsory so It is undemocratic to force people to vote#Miscellaneous#Miscellaneous\n",
      "Governments should make voting compulsory so IT IS MOST IMPORTANT OF THE PEOPLE#Miscellaneous#Miscellaneous\n",
      "Governments should make voting compulsory so it is a civic duty#Civic Duty#Civic Duty\n",
      "Governments should make voting compulsory so it ensures that the elected government represents the majority of the population#More Representative#More Representative\n",
      "Governments should make voting compulsory so it encourages voter participation.#Increased Voting#Increased Voting\n",
      "Governments should make voting compulsory so it can require days off so that everyone has the chance to.#Miscellaneous#Miscellaneous\n",
      "Governments should make voting compulsory so it can ensure that the elected government represents the majority of the population.#More Representative#More Representative\n",
      "Governments should make voting compulsory so hat a real and honest representation can be made, and candidates will not squeak in despite doing awful things.#More Representative;Miscellaneous#More Representative;Miscellaneous\n",
      "Governments should make voting compulsory so everyone’s voice is heard and counted.#More Representative#More Representative\n",
      "Governments should make voting compulsory so everyone’s opinion is counted.#More Representative#More Representative\n",
      "Governments should make voting compulsory so everyone's voice has the fair and equal chance to be heard.#More Representative#More Representative\n",
      "Governments should make voting compulsory so everyone's voice and opinion can be represented in our government.#More Representative#More Representative\n",
      "Governments should make voting compulsory so everyone will be represented at the polls.#More Representative#More Representative\n",
      "Governments should make voting compulsory so everyone should have to vote unless he or she has a legitimate excuse.#Miscellaneous#Miscellaneous\n",
      "Governments should make voting compulsory so everyone is sure to have a say in the way things turn out and have a chance to change things for the better.#Miscellaneous;Increased Voting#More Representative\n",
      "Governments should make voting compulsory so everyone has their voice heard.#More Representative#More Representative\n",
      "Governments should make voting compulsory so everyone has a say in their government.#More Representative#More Representative;Leaders\n",
      "Governments should make voting compulsory so everyone has a chance to voice their opinion and make the elections fair.#More Representative;Miscellaneous#Miscellaneous\n",
      "Governments should make voting compulsory so everyone gets out and votes.#Increased Voting#Increased Voting\n",
      "Governments should make voting compulsory so every voice and interest is heard and represented.#More Representative#More Representative\n",
      "Governments should make voting compulsory so every citizen can be heard.#More Representative#More Representative\n",
      "Governments should make voting compulsory so elections are representative of all the people.#More Representative#More Representative\n",
      "Governments should make voting compulsory so each person will keep up on the politics as they do American Idol.#Miscellaneous#Miscellaneous\n",
      "Governments should make voting compulsory so democracy can thrive by properly representing all the people.#More Representative#More Representative\n",
      "Governments should make voting compulsory so corrupt leaders do not assume power.#Miscellaneous#Miscellaneous\n",
      "Governments should make voting compulsory so community groups and politically motivated action groups should work very hard to inform every otherwise uninformed voter.#Miscellaneous#Miscellaneous\n",
      "Governments should make voting compulsory so citizens realize their voice is critical in their country's decisions.#Miscellaneous#More Representative\n",
      "Governments should make voting compulsory so citizens have more say in politics.#More Representative#More Representative\n",
      "Governments should make voting compulsory so citizens get in involved in politics and know the issues and the candidates and can make informed choices when they vote.#Miscellaneous;Increased Voting#Increased Voting\n",
      "Governments should make voting compulsory so citizens can see the importance in their stance regardless of how they may feel about past election policies or outcomes.#Miscellaneous#Miscellaneous\n",
      "Governments should make voting compulsory so citizens can participate in deciding the direction of their country.#Increased Voting#Increased Voting\n",
      "Governments should make voting compulsory so citizens are more encouraged to participate.#Increased Voting#Increased Voting\n",
      "Governments should make voting compulsory so citizens are encouraged to participate in the voting process.#Increased Voting#Increased Voting\n",
      "Governments should make voting compulsory so as to ensure that elected officials represent the majority.#More Representative;Leaders#More Representative;Leaders\n",
      "Governments should make voting compulsory so all voices can be heard.#More Representative#More Representative\n",
      "Governments should make voting compulsory so all the registered voters---the great majority of adult citizens---participate in making a choice that effects them all.#Increased Voting#Increased Voting\n",
      "Governments should make voting compulsory so all citizen to vote any candidates#Miscellaneous#Increased Voting\n",
      "Governments should make voting compulsory so all citizen should be vote compulsory.#Miscellaneous#Miscellaneous\n",
      "Governments should make voting compulsory so a more accurate representation of the nation's views are captured by the polls.#More Representative#More Representative\n",
      "Leaders 0.7054263565891473 0.8348623853211009 0.7647058823529411 109\n",
      "Miscellaneous 0.8295454545454546 0.6547085201793722 0.731829573934837 223\n",
      "Increased Voting 0.8533333333333334 0.8807339449541285 0.8668171557562077 218\n",
      "More Representative 0.848780487804878 0.9380053908355795 0.8911651728553137 371\n",
      "Apathy 1.0 0.3 0.4615384615384615 10\n",
      "Civic Duty 1.0 0.84 0.9130434782608696 25\n",
      "Feels Represented 0.25 0.1 0.14285714285714288 10\n"
     ]
    }
   ],
   "source": [
    "scores = {}\n",
    "for item, predicted, correct in zip(all_test_data, all_predicted, all_correct):\n",
    "    correct_labels = [idx2label[i] for i, l in enumerate(correct) if l == 1]\n",
    "    predicted_labels = [idx2label[i] for i, l in enumerate(predicted) if l == 1]\n",
    "    print(\"{}#{}#{}\".format(item.text, \";\".join(correct_labels), \";\".join(predicted_labels)))    \n",
    "        \n",
    "    for label in predicted_labels + correct_labels:\n",
    "        if label not in scores:\n",
    "            scores[label] = {\"tp\": 0, \"fp\": 0, \"fn\": 0, \"support\": 0}\n",
    "    \n",
    "    for label in predicted_labels:\n",
    "        if label in correct_labels:\n",
    "            scores[label][\"tp\"] += 1\n",
    "        else:\n",
    "            scores[label][\"fp\"] += 1\n",
    "\n",
    "    for label in correct_labels:\n",
    "        scores[label][\"support\"] += 1\n",
    "        if label not in predicted_labels:\n",
    "            scores[label][\"fn\"] += 1\n",
    "            \n",
    "for label in scores:\n",
    "    lp = scores[label][\"tp\"] / (scores[label][\"tp\"] + scores[label][\"fp\"]) if scores[label][\"tp\"] + scores[label][\"fp\"] > 0 else 0\n",
    "    lr = scores[label][\"tp\"] / (scores[label][\"tp\"] + scores[label][\"fn\"]) if scores[label][\"tp\"] + scores[label][\"fn\"] > 0 else 0\n",
    "    lf = 2*lp*lr/(lp+lr) if lp+lr > 0 else 0\n",
    "    \n",
    "    print(label, lp, lr, lf, scores[label][\"support\"])"
   ]
  },
  {
   "cell_type": "code",
   "execution_count": 7,
   "metadata": {},
   "outputs": [
    {
     "name": "stdout",
     "output_type": "stream",
     "text": [
      "8 / 798\n"
     ]
    }
   ],
   "source": [
    "print(len([p for p in all_predicted if sum(p) == 0]), \"/\", len(all_predicted))"
   ]
  },
  {
   "cell_type": "code",
   "execution_count": null,
   "metadata": {},
   "outputs": [],
   "source": []
  }
 ],
 "metadata": {
  "kernelspec": {
   "display_name": "Python 3",
   "language": "python",
   "name": "python3"
  },
  "language_info": {
   "codemirror_mode": {
    "name": "ipython",
    "version": 3
   },
   "file_extension": ".py",
   "mimetype": "text/x-python",
   "name": "python",
   "nbconvert_exporter": "python",
   "pygments_lexer": "ipython3",
   "version": "3.7.3"
  }
 },
 "nbformat": 4,
 "nbformat_minor": 2
}
